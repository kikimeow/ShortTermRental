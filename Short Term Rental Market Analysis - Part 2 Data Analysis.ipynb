{
 "cells": [
  {
   "cell_type": "markdown",
   "metadata": {},
   "source": [
    "# Vacation Rental Market Analysis - Part 2 Data Analysis"
   ]
  },
  {
   "cell_type": "markdown",
   "metadata": {},
   "source": [
    "## Introduction"
   ]
  },
  {
   "cell_type": "markdown",
   "metadata": {},
   "source": [
    "Two files are given for the exercise.  The listing file contains data regarding attributes of the listing, such as location, number of bed/bath etc.  The second file scraped_data.csv (thereafter renamed 'price) in the workbook, contains availability and price data for listings for April and May 2018, scraped daily during time period from 3/15/18 to 5/31/18.  There are 8,445 listings given.  The goal of the analysis is to assess the pricing, revenue, occupancy ratio of comparable properties. \n",
    "\n",
    "This notebook contains analysis of the data.  The code to clean the data is in a separate notebook."
   ]
  },
  {
   "cell_type": "markdown",
   "metadata": {},
   "source": [
    "## What data would you exclude from analysis for being unreliable or potentially a block instead of an actual booking?"
   ]
  },
  {
   "cell_type": "markdown",
   "metadata": {},
   "source": [
    "The price should be based on what a customer paid to stay in a property, not what the host wishes to charge.  The biggest obstacle in this dataset is to distinguish days that are blocked by hosts (therefore marked as unavailable), from days that are actually unavailable due to booking.  The following logics are utilized to clean the data: <br>\n",
    "1. If the unit has never had any availability during April and May.  This means that the property is most likley blocked out by the host.  It is very unlikely to have properties with 100% occupancy rate.  Exclude these from analysis.  About 1,075 properties are under this category.\n",
    "2. If the unit always have availability (did not have any zero in availability). Remove these from analysis. They are not priced right. About 244 properties are in this category.  \n",
    "3. Determine the booking date for each property, which can be inferred by the date that the flag for availability changed from 1 to 0.  If a property has more than 14 days that are changed from available to not-available on the same day, it is most likely that the property is blocked by the host.  Exclude these from analysis.  14 days was chosen because approximately 40% of bookings are of 1 day stays, 14 days would cover ast least 80% of the stays.  \n",
    "4. Since price continue to change after day of booking.  Obtain the scraped-price on the booking date of each stay. \n",
    "5. Majority of the bookings are booked within 11 days of the stay dates.  However, many of the bookings are made way ahead of time.  Due to limitation of data, (only have data scraped from 3/15), it is not possible to determine the booking date for all the properties.  Additional steps need to be taken to filter out questionable data. The approach used is to establish a confidence interval based on the price that we are more certain about (the ones with booking date).  For each stay date that we do not have reliable booking date data, if the price scraped on the day of stay is 15% above the maximum rate of the property ever charged, or $25 above the maximum rate for that property ever charged, mark the booking as unreliable and exclude them from the analysis.  \n",
    "6. The last layer of QA is if the price is above 95% percentile for the property type (based on number of bedrooms), exclude the listing from the anlaysis.  \n"
   ]
  },
  {
   "cell_type": "markdown",
   "metadata": {},
   "source": [
    "#### How is price determined?"
   ]
  },
  {
   "cell_type": "markdown",
   "metadata": {},
   "source": [
    "The analysis of this notebook will focus on price history that passes all of the above QA process.  It will only focus on actual bookings.  One assumption of pricing is that the actual price paid by the customers are the price scrapped on the booking date, even if the price continues to change even after a booking is made.  For the stays where we cannot determine the booking date, the price used in the analysis is based on the price scraped on the stay date.  The assumption is that the price scrapped on the stay date will be  the lowest that the host is willing to accept, and will not be too far off from the average booking rate for that property.  Even if the price may not be accurate, it is a more conservative guess.  <br>\n",
    "\n",
    "Another consideration is cleaning fee.  Some properties are priced low, and charges an exuberant amount of cleaning fee.  This is a common tatic to shown your property as a cheap one, until the user inputs and dates, and then cleaning fee is shown. To make pricing more comparable, the analysis assumes a 3-night stay and pricing will be daily rate + 1/3 cleaning fee. \n",
    "\n",
    "A successful host will have to balance between nightly rate v.s cleaning fee.  Having a low nightly rate will entice more users to click on the property.  However, if most of the users book a long stay, the host will lose out on cleaning fee revenue.  Being able to forecast the length of stay for each property will help determine the optimal balance.  "
   ]
  },
  {
   "cell_type": "markdown",
   "metadata": {},
   "source": [
    "## What is a good approach to estimate occupancy and revenue per unit?"
   ]
  },
  {
   "cell_type": "markdown",
   "metadata": {},
   "source": [
    "Occupancy is estimated based on the number of days booked relative to the number of days in the month. For the properties that are added in the middle of the month, the denominator are adjusted based on the start date of the property.<br>\n",
    "\n",
    "\n",
    "To estimate revenue per unit, one factor to consider is the number of separate bookings made during the month, as cleaning fee might be a big component of the revenue.   The revenue is calculated based on nightly rate + cleaning fee per booking.  <Br>\n",
    "\n",
    "\n",
    "To estimate the number of bookings during a month, I calculated the number of unique booking dates for each month.  The drawback of this approach is that there are instances where two bookings are made on the same day, even though the days are consecutive. (for example, A made booking for 4/1 to 4/3 on 3/31, while B also made booking on 3/31 for 4/4-4/5) <br>\n",
    "\n",
    "One way to check the validity of this approach is to verify with known data.  Below is some data for WanderJaunt.  Please see if it makes sense."
   ]
  },
  {
   "cell_type": "code",
   "execution_count": 14,
   "metadata": {},
   "outputs": [
    {
     "data": {
      "text/html": [
       "<div>\n",
       "<style scoped>\n",
       "    .dataframe tbody tr th:only-of-type {\n",
       "        vertical-align: middle;\n",
       "    }\n",
       "\n",
       "    .dataframe tbody tr th {\n",
       "        vertical-align: top;\n",
       "    }\n",
       "\n",
       "    .dataframe thead th {\n",
       "        text-align: right;\n",
       "    }\n",
       "</style>\n",
       "<table border=\"1\" class=\"dataframe\">\n",
       "  <thead>\n",
       "    <tr style=\"text-align: right;\">\n",
       "      <th></th>\n",
       "      <th>host_name</th>\n",
       "      <th>listing</th>\n",
       "      <th>city</th>\n",
       "      <th>num_bookedDays_Apr</th>\n",
       "      <th>num_bookedDays_May</th>\n",
       "      <th>occupancy_ratio_Apr</th>\n",
       "      <th>occupancy_ratio_May</th>\n",
       "      <th>occupancy_ratio_all</th>\n",
       "      <th>Apr_num_booking</th>\n",
       "      <th>May_num_booking</th>\n",
       "      <th>Apr_rev_ex_clean</th>\n",
       "      <th>May_rev_ex_clean</th>\n",
       "      <th>Apr_cleaning_revenue</th>\n",
       "      <th>May_cleaning_revenue</th>\n",
       "      <th>Apr_total_revenue</th>\n",
       "      <th>May_total_revenue</th>\n",
       "    </tr>\n",
       "  </thead>\n",
       "  <tbody>\n",
       "    <tr>\n",
       "      <th>4396</th>\n",
       "      <td>WanderJaunt</td>\n",
       "      <td>https://www.airbnb.com/rooms/18057796</td>\n",
       "      <td>phoenix</td>\n",
       "      <td>25.0</td>\n",
       "      <td>28.0</td>\n",
       "      <td>0.833333</td>\n",
       "      <td>0.903226</td>\n",
       "      <td>0.868852</td>\n",
       "      <td>6.0</td>\n",
       "      <td>11.0</td>\n",
       "      <td>2967.0</td>\n",
       "      <td>1984.0</td>\n",
       "      <td>540.0</td>\n",
       "      <td>990.0</td>\n",
       "      <td>3507.0</td>\n",
       "      <td>2974.0</td>\n",
       "    </tr>\n",
       "    <tr>\n",
       "      <th>5548</th>\n",
       "      <td>WanderJaunt</td>\n",
       "      <td>https://www.airbnb.com/rooms/20913327</td>\n",
       "      <td>phoenix</td>\n",
       "      <td>20.0</td>\n",
       "      <td>25.0</td>\n",
       "      <td>0.666667</td>\n",
       "      <td>0.806452</td>\n",
       "      <td>0.737705</td>\n",
       "      <td>3.0</td>\n",
       "      <td>10.0</td>\n",
       "      <td>2275.0</td>\n",
       "      <td>1747.0</td>\n",
       "      <td>270.0</td>\n",
       "      <td>900.0</td>\n",
       "      <td>2545.0</td>\n",
       "      <td>2647.0</td>\n",
       "    </tr>\n",
       "    <tr>\n",
       "      <th>16</th>\n",
       "      <td>WanderJaunt</td>\n",
       "      <td>https://www.airbnb.com/rooms/16603819</td>\n",
       "      <td>scottsdale</td>\n",
       "      <td>22.0</td>\n",
       "      <td>26.0</td>\n",
       "      <td>0.733333</td>\n",
       "      <td>0.838710</td>\n",
       "      <td>0.786885</td>\n",
       "      <td>6.0</td>\n",
       "      <td>9.0</td>\n",
       "      <td>2351.0</td>\n",
       "      <td>2368.0</td>\n",
       "      <td>690.0</td>\n",
       "      <td>1035.0</td>\n",
       "      <td>3041.0</td>\n",
       "      <td>3403.0</td>\n",
       "    </tr>\n",
       "    <tr>\n",
       "      <th>4377</th>\n",
       "      <td>WanderJaunt</td>\n",
       "      <td>https://www.airbnb.com/rooms/17994759</td>\n",
       "      <td>phoenix</td>\n",
       "      <td>23.0</td>\n",
       "      <td>28.0</td>\n",
       "      <td>0.766667</td>\n",
       "      <td>0.903226</td>\n",
       "      <td>0.836066</td>\n",
       "      <td>9.0</td>\n",
       "      <td>9.0</td>\n",
       "      <td>2520.0</td>\n",
       "      <td>1856.0</td>\n",
       "      <td>810.0</td>\n",
       "      <td>810.0</td>\n",
       "      <td>3330.0</td>\n",
       "      <td>2666.0</td>\n",
       "    </tr>\n",
       "    <tr>\n",
       "      <th>6880</th>\n",
       "      <td>WanderJaunt</td>\n",
       "      <td>https://www.airbnb.com/rooms/22491962</td>\n",
       "      <td>phoenix</td>\n",
       "      <td>20.0</td>\n",
       "      <td>26.0</td>\n",
       "      <td>0.666667</td>\n",
       "      <td>0.838710</td>\n",
       "      <td>0.754098</td>\n",
       "      <td>5.0</td>\n",
       "      <td>9.0</td>\n",
       "      <td>2202.0</td>\n",
       "      <td>1748.0</td>\n",
       "      <td>450.0</td>\n",
       "      <td>810.0</td>\n",
       "      <td>2652.0</td>\n",
       "      <td>2558.0</td>\n",
       "    </tr>\n",
       "  </tbody>\n",
       "</table>\n",
       "</div>"
      ],
      "text/plain": [
       "        host_name                                listing        city  \\\n",
       "4396  WanderJaunt  https://www.airbnb.com/rooms/18057796     phoenix   \n",
       "5548  WanderJaunt  https://www.airbnb.com/rooms/20913327     phoenix   \n",
       "16    WanderJaunt  https://www.airbnb.com/rooms/16603819  scottsdale   \n",
       "4377  WanderJaunt  https://www.airbnb.com/rooms/17994759     phoenix   \n",
       "6880  WanderJaunt  https://www.airbnb.com/rooms/22491962     phoenix   \n",
       "\n",
       "      num_bookedDays_Apr  num_bookedDays_May  occupancy_ratio_Apr  \\\n",
       "4396                25.0                28.0             0.833333   \n",
       "5548                20.0                25.0             0.666667   \n",
       "16                  22.0                26.0             0.733333   \n",
       "4377                23.0                28.0             0.766667   \n",
       "6880                20.0                26.0             0.666667   \n",
       "\n",
       "      occupancy_ratio_May  occupancy_ratio_all  Apr_num_booking  \\\n",
       "4396             0.903226             0.868852              6.0   \n",
       "5548             0.806452             0.737705              3.0   \n",
       "16               0.838710             0.786885              6.0   \n",
       "4377             0.903226             0.836066              9.0   \n",
       "6880             0.838710             0.754098              5.0   \n",
       "\n",
       "      May_num_booking  Apr_rev_ex_clean  May_rev_ex_clean  \\\n",
       "4396             11.0            2967.0            1984.0   \n",
       "5548             10.0            2275.0            1747.0   \n",
       "16                9.0            2351.0            2368.0   \n",
       "4377              9.0            2520.0            1856.0   \n",
       "6880              9.0            2202.0            1748.0   \n",
       "\n",
       "      Apr_cleaning_revenue  May_cleaning_revenue  Apr_total_revenue  \\\n",
       "4396                 540.0                 990.0             3507.0   \n",
       "5548                 270.0                 900.0             2545.0   \n",
       "16                   690.0                1035.0             3041.0   \n",
       "4377                 810.0                 810.0             3330.0   \n",
       "6880                 450.0                 810.0             2652.0   \n",
       "\n",
       "      May_total_revenue  \n",
       "4396             2974.0  \n",
       "5548             2647.0  \n",
       "16               3403.0  \n",
       "4377             2666.0  \n",
       "6880             2558.0  "
      ]
     },
     "execution_count": 14,
     "metadata": {},
     "output_type": "execute_result"
    }
   ],
   "source": [
    "cols = ['host_name', 'listing', 'city', 'num_bookedDays_Apr', 'num_bookedDays_May', 'occupancy_ratio_Apr', 'occupancy_ratio_May',\n",
    "       'occupancy_ratio_all', 'Apr_num_booking', 'May_num_booking',\n",
    "       'Apr_rev_ex_clean', 'May_rev_ex_clean', 'Apr_cleaning_revenue',\n",
    "       'May_cleaning_revenue', 'Apr_total_revenue', 'May_total_revenue']\n",
    "\n",
    "temp = df.loc[df['host_name'] == 'WanderJaunt', cols]\n",
    "temp = temp.sort_values(by = ['May_num_booking'], ascending = False)\n",
    "temp[:5]"
   ]
  },
  {
   "cell_type": "markdown",
   "metadata": {},
   "source": [
    "## Which month appears to be more profitable? April or May?"
   ]
  },
  {
   "cell_type": "markdown",
   "metadata": {},
   "source": [
    "First off, April data is less accurate than May data due to the fact of not being able to determine the booking date, therefore, the number of separate stays could be understated for April data.  If the number of stays are understated, the April cleaning revenue will be understated as well.  Please keep this in mind when reviewing the comparison."
   ]
  },
  {
   "cell_type": "markdown",
   "metadata": {},
   "source": [
    "We will use WanderJaunt data to assess the validity of the calculation.  6 properties are addeded in April and 9 properties are added in May.  We will exlude properties with partial months from the anlaysis.  The properties are assumed to be new property when no previous scraping history are available.  Even if the assumption may not be always true, we don't have the data to analyze them anyway."
   ]
  },
  {
   "cell_type": "markdown",
   "metadata": {},
   "source": [
    "From the available data, April seem to be more profitable than May, mostly due to that price in April on average is higher than May."
   ]
  },
  {
   "cell_type": "code",
   "execution_count": 15,
   "metadata": {},
   "outputs": [
    {
     "name": "stdout",
     "output_type": "stream",
     "text": [
      "% of properties with April Revenue greater than May revenue excluding cleaning fee:72.73\n",
      "% of properties with April Revenue greater than May revenue including cleaning fee:54.55\n",
      "Mean Occupancy Ratio in April:0.62\n",
      "Mean Occupancy Ratio in May:0.62\n",
      "Mean Revenue ex-cleaning fee in April:2259.70\n",
      "Mean Revenue ex-cleaning fee in May:1771.00\n",
      "Mean price ex-cleaning fee in April:119.89\n",
      "Mean price ex-cleaning fee in May:91.27\n"
     ]
    }
   ],
   "source": [
    "temp = df.loc[(df['host_name'] == 'WanderJaunt') & (df['scraped_date_min'] == '2018-03-15')]\n",
    "x = (temp['Apr_rev_ex_clean'] > temp['May_rev_ex_clean']).sum()\n",
    "print('% of properties with April Revenue greater than May revenue excluding cleaning fee:{:.2f}'.format(x/len(temp)*100))\n",
    "x = (temp['Apr_total_revenue'] > temp['May_total_revenue']).sum()\n",
    "print('% of properties with April Revenue greater than May revenue including cleaning fee:{:.2f}'.format(x/len(temp)*100))\n",
    "\n",
    "x = temp['occupancy_ratio_Apr'].mean()\n",
    "print('Mean Occupancy Ratio in April:{:.2f}'.format(x))\n",
    "x = temp['occupancy_ratio_May'].mean()\n",
    "print('Mean Occupancy Ratio in May:{:.2f}'.format(x))\n",
    "\n",
    "x = temp['Apr_rev_ex_clean'].mean()\n",
    "print('Mean Revenue ex-cleaning fee in April:{:.2f}'.format(x))\n",
    "x = temp['May_rev_ex_clean'].mean()\n",
    "print('Mean Revenue ex-cleaning fee in May:{:.2f}'.format(x))\n",
    "\n",
    "x = temp['meanPriceMonth_Apr'].mean()\n",
    "print('Mean price ex-cleaning fee in April:{:.2f}'.format(x))\n",
    "x = temp['meanPriceMonth_May'].mean()\n",
    "print('Mean price ex-cleaning fee in May:{:.2f}'.format(x))"
   ]
  },
  {
   "cell_type": "markdown",
   "metadata": {},
   "source": [
    "#### Top 3 revenue generating WanderJaunt properties"
   ]
  },
  {
   "cell_type": "code",
   "execution_count": 16,
   "metadata": {},
   "outputs": [
    {
     "data": {
      "text/html": [
       "<div>\n",
       "<style scoped>\n",
       "    .dataframe tbody tr th:only-of-type {\n",
       "        vertical-align: middle;\n",
       "    }\n",
       "\n",
       "    .dataframe tbody tr th {\n",
       "        vertical-align: top;\n",
       "    }\n",
       "\n",
       "    .dataframe thead th {\n",
       "        text-align: right;\n",
       "    }\n",
       "</style>\n",
       "<table border=\"1\" class=\"dataframe\">\n",
       "  <thead>\n",
       "    <tr style=\"text-align: right;\">\n",
       "      <th></th>\n",
       "      <th>listing</th>\n",
       "      <th>bed_bath</th>\n",
       "      <th>has_pool</th>\n",
       "      <th>city</th>\n",
       "      <th>occupancy_ratio_Apr</th>\n",
       "      <th>occupancy_ratio_May</th>\n",
       "      <th>Apr_total_revenue</th>\n",
       "      <th>May_total_revenue</th>\n",
       "      <th>Total_Revenue_May_Apr</th>\n",
       "    </tr>\n",
       "  </thead>\n",
       "  <tbody>\n",
       "    <tr>\n",
       "      <th>6509</th>\n",
       "      <td>https://www.airbnb.com/rooms/22124153</td>\n",
       "      <td>2.0_2.0</td>\n",
       "      <td>0</td>\n",
       "      <td>scottsdale</td>\n",
       "      <td>0.700000</td>\n",
       "      <td>0.935484</td>\n",
       "      <td>3540.0</td>\n",
       "      <td>4455.0</td>\n",
       "      <td>7995.0</td>\n",
       "    </tr>\n",
       "    <tr>\n",
       "      <th>6000</th>\n",
       "      <td>https://www.airbnb.com/rooms/21489551</td>\n",
       "      <td>2.0_2.5</td>\n",
       "      <td>1</td>\n",
       "      <td>scottsdale</td>\n",
       "      <td>0.766667</td>\n",
       "      <td>0.903226</td>\n",
       "      <td>3522.0</td>\n",
       "      <td>3948.0</td>\n",
       "      <td>7470.0</td>\n",
       "    </tr>\n",
       "    <tr>\n",
       "      <th>6311</th>\n",
       "      <td>https://www.airbnb.com/rooms/21852794</td>\n",
       "      <td>2.0_2.0</td>\n",
       "      <td>1</td>\n",
       "      <td>scottsdale</td>\n",
       "      <td>0.866667</td>\n",
       "      <td>0.741935</td>\n",
       "      <td>4308.0</td>\n",
       "      <td>2814.0</td>\n",
       "      <td>7122.0</td>\n",
       "    </tr>\n",
       "  </tbody>\n",
       "</table>\n",
       "</div>"
      ],
      "text/plain": [
       "                                    listing bed_bath  has_pool        city  \\\n",
       "6509  https://www.airbnb.com/rooms/22124153  2.0_2.0         0  scottsdale   \n",
       "6000  https://www.airbnb.com/rooms/21489551  2.0_2.5         1  scottsdale   \n",
       "6311  https://www.airbnb.com/rooms/21852794  2.0_2.0         1  scottsdale   \n",
       "\n",
       "      occupancy_ratio_Apr  occupancy_ratio_May  Apr_total_revenue  \\\n",
       "6509             0.700000             0.935484             3540.0   \n",
       "6000             0.766667             0.903226             3522.0   \n",
       "6311             0.866667             0.741935             4308.0   \n",
       "\n",
       "      May_total_revenue  Total_Revenue_May_Apr  \n",
       "6509             4455.0                 7995.0  \n",
       "6000             3948.0                 7470.0  \n",
       "6311             2814.0                 7122.0  "
      ]
     },
     "execution_count": 16,
     "metadata": {},
     "output_type": "execute_result"
    }
   ],
   "source": [
    "cols = ['listing','bed_bath', 'has_pool', 'city', 'occupancy_ratio_Apr', 'occupancy_ratio_May','Apr_total_revenue', 'May_total_revenue', 'Total_Revenue_May_Apr']\n",
    "temp[cols].sort_values(by = 'Total_Revenue_May_Apr', ascending = False)[0:3]"
   ]
  },
  {
   "cell_type": "markdown",
   "metadata": {},
   "source": [
    "#### Bottom 3 revenue generating WanderJaunt properties"
   ]
  },
  {
   "cell_type": "code",
   "execution_count": 17,
   "metadata": {},
   "outputs": [
    {
     "data": {
      "text/html": [
       "<div>\n",
       "<style scoped>\n",
       "    .dataframe tbody tr th:only-of-type {\n",
       "        vertical-align: middle;\n",
       "    }\n",
       "\n",
       "    .dataframe tbody tr th {\n",
       "        vertical-align: top;\n",
       "    }\n",
       "\n",
       "    .dataframe thead th {\n",
       "        text-align: right;\n",
       "    }\n",
       "</style>\n",
       "<table border=\"1\" class=\"dataframe\">\n",
       "  <thead>\n",
       "    <tr style=\"text-align: right;\">\n",
       "      <th></th>\n",
       "      <th>listing</th>\n",
       "      <th>bed_bath</th>\n",
       "      <th>has_pool</th>\n",
       "      <th>city</th>\n",
       "      <th>occupancy_ratio_Apr</th>\n",
       "      <th>occupancy_ratio_May</th>\n",
       "      <th>Apr_total_revenue</th>\n",
       "      <th>May_total_revenue</th>\n",
       "      <th>Total_Revenue_May_Apr</th>\n",
       "    </tr>\n",
       "  </thead>\n",
       "  <tbody>\n",
       "    <tr>\n",
       "      <th>7286</th>\n",
       "      <td>https://www.airbnb.com/rooms/22922260</td>\n",
       "      <td>2.0_1.5</td>\n",
       "      <td>1</td>\n",
       "      <td>scottsdale</td>\n",
       "      <td>0.033333</td>\n",
       "      <td>0.161290</td>\n",
       "      <td>252.0</td>\n",
       "      <td>660.0</td>\n",
       "      <td>912.0</td>\n",
       "    </tr>\n",
       "    <tr>\n",
       "      <th>4633</th>\n",
       "      <td>https://www.airbnb.com/rooms/18057913</td>\n",
       "      <td>1.0_1.0</td>\n",
       "      <td>1</td>\n",
       "      <td>phoenix</td>\n",
       "      <td>0.400000</td>\n",
       "      <td>0.000000</td>\n",
       "      <td>1271.0</td>\n",
       "      <td>0.0</td>\n",
       "      <td>1271.0</td>\n",
       "    </tr>\n",
       "    <tr>\n",
       "      <th>7419</th>\n",
       "      <td>https://www.airbnb.com/rooms/23059928</td>\n",
       "      <td>1.0_1.0</td>\n",
       "      <td>0</td>\n",
       "      <td>phoenix</td>\n",
       "      <td>0.266667</td>\n",
       "      <td>0.419355</td>\n",
       "      <td>705.0</td>\n",
       "      <td>967.0</td>\n",
       "      <td>1672.0</td>\n",
       "    </tr>\n",
       "  </tbody>\n",
       "</table>\n",
       "</div>"
      ],
      "text/plain": [
       "                                    listing bed_bath  has_pool        city  \\\n",
       "7286  https://www.airbnb.com/rooms/22922260  2.0_1.5         1  scottsdale   \n",
       "4633  https://www.airbnb.com/rooms/18057913  1.0_1.0         1     phoenix   \n",
       "7419  https://www.airbnb.com/rooms/23059928  1.0_1.0         0     phoenix   \n",
       "\n",
       "      occupancy_ratio_Apr  occupancy_ratio_May  Apr_total_revenue  \\\n",
       "7286             0.033333             0.161290              252.0   \n",
       "4633             0.400000             0.000000             1271.0   \n",
       "7419             0.266667             0.419355              705.0   \n",
       "\n",
       "      May_total_revenue  Total_Revenue_May_Apr  \n",
       "7286              660.0                  912.0  \n",
       "4633                0.0                 1271.0  \n",
       "7419              967.0                 1672.0  "
      ]
     },
     "execution_count": 17,
     "metadata": {},
     "output_type": "execute_result"
    }
   ],
   "source": [
    "cols = ['listing','bed_bath', 'has_pool', 'city', 'occupancy_ratio_Apr', 'occupancy_ratio_May','Apr_total_revenue', 'May_total_revenue', 'Total_Revenue_May_Apr']\n",
    "temp[cols].sort_values(by = 'Total_Revenue_May_Apr', ascending = True)[0:3]"
   ]
  },
  {
   "cell_type": "markdown",
   "metadata": {},
   "source": [
    "#### Performance for all properties on the platform"
   ]
  },
  {
   "cell_type": "code",
   "execution_count": 18,
   "metadata": {},
   "outputs": [
    {
     "name": "stdout",
     "output_type": "stream",
     "text": [
      "% of properties with April Revenue greater than May revenue excluding cleaning fee:59.48\n",
      "% of properties with April Revenue greater than May revenue including cleaning fee:55.38\n",
      "Mean Occupancy Ratio in April:0.63\n",
      "Mean Occupancy Ratio in May:0.56\n",
      "Mean Revenue ex-cleaning fee in April:4428.11\n",
      "Mean Revenue ex-cleaning fee in May:3710.77\n",
      "Mean price ex-cleaning fee in April:235.49\n",
      "Mean price ex-cleaning fee in May:214.00\n"
     ]
    }
   ],
   "source": [
    "temp = df.loc[(df['scraped_date_min'] == '2018-03-15')]\n",
    "x = (temp['Apr_rev_ex_clean'] > temp['May_rev_ex_clean']).sum()\n",
    "print('% of properties with April Revenue greater than May revenue excluding cleaning fee:{:.2f}'.format(x/len(temp)*100))\n",
    "x = (temp['Apr_total_revenue'] > temp['May_total_revenue']).sum()\n",
    "print('% of properties with April Revenue greater than May revenue including cleaning fee:{:.2f}'.format(x/len(temp)*100))\n",
    "\n",
    "x = temp['occupancy_ratio_Apr'].mean()\n",
    "print('Mean Occupancy Ratio in April:{:.2f}'.format(x))\n",
    "x = temp['occupancy_ratio_May'].mean()\n",
    "print('Mean Occupancy Ratio in May:{:.2f}'.format(x))\n",
    "\n",
    "x = temp['Apr_rev_ex_clean'].mean()\n",
    "print('Mean Revenue ex-cleaning fee in April:{:.2f}'.format(x))\n",
    "x = temp['May_rev_ex_clean'].mean()\n",
    "print('Mean Revenue ex-cleaning fee in May:{:.2f}'.format(x))\n",
    "\n",
    "x = temp['meanPriceMonth_Apr'].mean()\n",
    "print('Mean price ex-cleaning fee in April:{:.2f}'.format(x))\n",
    "x = temp['meanPriceMonth_May'].mean()\n",
    "print('Mean price ex-cleaning fee in May:{:.2f}'.format(x))"
   ]
  },
  {
   "cell_type": "markdown",
   "metadata": {},
   "source": [
    "## How much more revenue do places with 3 bedrooms make vs. places with 2 bedrooms?"
   ]
  },
  {
   "cell_type": "markdown",
   "metadata": {},
   "source": [
    "Having more bedrooms generally generates higher revenue.  The distribution chart below that indeed there is a difference."
   ]
  },
  {
   "cell_type": "code",
   "execution_count": 19,
   "metadata": {},
   "outputs": [
    {
     "data": {
      "text/plain": [
       "<matplotlib.legend.Legend at 0x7f31f4439a20>"
      ]
     },
     "execution_count": 19,
     "metadata": {},
     "output_type": "execute_result"
    },
    {
     "data": {
      "image/png": "[encoded data removed]",
      "text/plain": [
       "<Figure size 432x288 with 1 Axes>"
      ]
     },
     "metadata": {},
     "output_type": "display_data"
    }
   ],
   "source": [
    "temp_0 = df.loc[df['bedrooms'] == 0]['Total_Revenue_May_Apr']\n",
    "temp_1 = df.loc[df['bedrooms'] == 1]['Total_Revenue_May_Apr']\n",
    "temp_2 = df.loc[df['bedrooms'] == 2]['Total_Revenue_May_Apr']\n",
    "temp_3 = df.loc[df['bedrooms'] == 3]['Total_Revenue_May_Apr']\n",
    "\n",
    "sns.distplot(np.log(temp_0), label = 'studio', kde = True, hist = False)\n",
    "sns.distplot(np.log(temp_1), label = '1 bedroom', kde = True, hist = False)\n",
    "sns.distplot(np.log(temp_2), label = '2 bedrooms', kde = True, hist = False)\n",
    "sns.distplot(np.log(temp_3), label = '3 bedrooms', kde = True, hist = False)\n",
    "plt.legend()"
   ]
  },
  {
   "cell_type": "markdown",
   "metadata": {},
   "source": [
    "Below is breakdown of revenue differences by number of bedrooms and city."
   ]
  },
  {
   "cell_type": "code",
   "execution_count": 20,
   "metadata": {},
   "outputs": [
    {
     "data": {
      "text/plain": [
       "[]"
      ]
     },
     "execution_count": 20,
     "metadata": {},
     "output_type": "execute_result"
    },
    {
     "data": {
      "image/png": "[encoded data removed]",
      "text/plain": [
       "<Figure size 720x360 with 1 Axes>"
      ]
     },
     "metadata": {},
     "output_type": "display_data"
    }
   ],
   "source": [
    "subset = df.loc[(df['city'].isin(['phoenix', 'tempe', 'scottsdale'])) & (df['bedrooms'] <= 3)]\n",
    "temp = pd.pivot_table(subset, values = ['Total_Revenue_May_Apr'], index = ['city', 'bedrooms'],\n",
    "                     aggfunc = [np.median])\n",
    "temp = temp/2\n",
    "temp = temp.rename(columns = {'Total_Revenue_May_Apr':'Avg. Monthly Revenue'})\n",
    "temp = temp.unstack()\n",
    "\n",
    "plt.rcParams['figure.figsize'] = [10, 5]\n",
    "temp.plot(kind = 'bar')\n",
    "plt.legend(loc=\"upper right\")\n",
    "plt.title('Average Monthly Revenue by Property Type (Bedroom Numbers)')\n",
    "plt.plot()"
   ]
  },
  {
   "cell_type": "code",
   "execution_count": 21,
   "metadata": {},
   "outputs": [
    {
     "data": {
      "text/html": [
       "<div>\n",
       "<style scoped>\n",
       "    .dataframe tbody tr th:only-of-type {\n",
       "        vertical-align: middle;\n",
       "    }\n",
       "\n",
       "    .dataframe tbody tr th {\n",
       "        vertical-align: top;\n",
       "    }\n",
       "\n",
       "    .dataframe thead tr th {\n",
       "        text-align: left;\n",
       "    }\n",
       "\n",
       "    .dataframe thead tr:last-of-type th {\n",
       "        text-align: right;\n",
       "    }\n",
       "</style>\n",
       "<table border=\"1\" class=\"dataframe\">\n",
       "  <thead>\n",
       "    <tr>\n",
       "      <th></th>\n",
       "      <th colspan=\"4\" halign=\"left\">median</th>\n",
       "    </tr>\n",
       "    <tr>\n",
       "      <th></th>\n",
       "      <th colspan=\"4\" halign=\"left\">Avg. Monthly Revenue</th>\n",
       "    </tr>\n",
       "    <tr>\n",
       "      <th>bedrooms</th>\n",
       "      <th>0.0</th>\n",
       "      <th>1.0</th>\n",
       "      <th>2.0</th>\n",
       "      <th>3.0</th>\n",
       "    </tr>\n",
       "    <tr>\n",
       "      <th>city</th>\n",
       "      <th></th>\n",
       "      <th></th>\n",
       "      <th></th>\n",
       "      <th></th>\n",
       "    </tr>\n",
       "  </thead>\n",
       "  <tbody>\n",
       "    <tr>\n",
       "      <th>phoenix</th>\n",
       "      <td>600.0</td>\n",
       "      <td>900.50</td>\n",
       "      <td>2034.5</td>\n",
       "      <td>3137.25</td>\n",
       "    </tr>\n",
       "    <tr>\n",
       "      <th>scottsdale</th>\n",
       "      <td>607.5</td>\n",
       "      <td>1224.75</td>\n",
       "      <td>2118.0</td>\n",
       "      <td>3669.50</td>\n",
       "    </tr>\n",
       "    <tr>\n",
       "      <th>tempe</th>\n",
       "      <td>737.5</td>\n",
       "      <td>1114.00</td>\n",
       "      <td>2463.0</td>\n",
       "      <td>2847.50</td>\n",
       "    </tr>\n",
       "  </tbody>\n",
       "</table>\n",
       "</div>"
      ],
      "text/plain": [
       "                         median                          \n",
       "           Avg. Monthly Revenue                          \n",
       "bedrooms                    0.0      1.0     2.0      3.0\n",
       "city                                                     \n",
       "phoenix                   600.0   900.50  2034.5  3137.25\n",
       "scottsdale                607.5  1224.75  2118.0  3669.50\n",
       "tempe                     737.5  1114.00  2463.0  2847.50"
      ]
     },
     "execution_count": 21,
     "metadata": {},
     "output_type": "execute_result"
    }
   ],
   "source": [
    "temp"
   ]
  },
  {
   "cell_type": "markdown",
   "metadata": {},
   "source": [
    "#### To predict revenue, we will need to consider both occupancy rate and price. Let's try to get an understanding of why 3 bedrooms gets more revenue."
   ]
  },
  {
   "cell_type": "markdown",
   "metadata": {},
   "source": [
    "#### How does occupancy rate vary by property type in each city?"
   ]
  },
  {
   "cell_type": "markdown",
   "metadata": {},
   "source": [
    "In Phoenix, the property type with the highest occupancys are one bedrooms and studio, with median ocupancy between 70-80%.    In Scottsdale, the most popular property type is 1 bedroom with median occupancy of 81%.  Majority of properties in Tempe are two bedrooms, which possibly explains why the 2 bedroom occupancy rate is lower than the other property types.  \n",
    "\n",
    "In terms of comparing 2 v.s. 3 bedrooms.  In Phoenix, there are 484 2 bedrooms, and 297 3 bedrooms.  The median occupancy ratio is 64% (2bd) vs. 72% (3bd).  However, with the high standard deviation, it is hard to drawn conclusion on which one has higher occupancy.  In Scottsdale, the occupancy rate between 2bd and 3bd is about the same, at 57%, despite having more 2 bedrooms than 3 bedrooms.  The same is true in Tempe, where there are a lot more 2 bedrooms than 3 bedrooms, while the occupancy rate is around 70%.  \n",
    "\n",
    "In general, occupancy rate for 3 bedrooms are approximately the same as 2 bedrooms, despite having lower inventory."
   ]
  },
  {
   "cell_type": "code",
   "execution_count": 22,
   "metadata": {},
   "outputs": [
    {
     "data": {
      "text/html": [
       "<div>\n",
       "<style scoped>\n",
       "    .dataframe tbody tr th:only-of-type {\n",
       "        vertical-align: middle;\n",
       "    }\n",
       "\n",
       "    .dataframe tbody tr th {\n",
       "        vertical-align: top;\n",
       "    }\n",
       "\n",
       "    .dataframe thead tr th {\n",
       "        text-align: left;\n",
       "    }\n",
       "\n",
       "    .dataframe thead tr:last-of-type th {\n",
       "        text-align: right;\n",
       "    }\n",
       "</style>\n",
       "<table border=\"1\" class=\"dataframe\">\n",
       "  <thead>\n",
       "    <tr>\n",
       "      <th></th>\n",
       "      <th></th>\n",
       "      <th>size</th>\n",
       "      <th>mean</th>\n",
       "      <th>median</th>\n",
       "      <th>std</th>\n",
       "      <th>amin</th>\n",
       "    </tr>\n",
       "    <tr>\n",
       "      <th></th>\n",
       "      <th></th>\n",
       "      <th>occupancy_ratio_all</th>\n",
       "      <th>occupancy_ratio_all</th>\n",
       "      <th>occupancy_ratio_all</th>\n",
       "      <th>occupancy_ratio_all</th>\n",
       "      <th>occupancy_ratio_all</th>\n",
       "    </tr>\n",
       "    <tr>\n",
       "      <th>city</th>\n",
       "      <th>bedrooms</th>\n",
       "      <th></th>\n",
       "      <th></th>\n",
       "      <th></th>\n",
       "      <th></th>\n",
       "      <th></th>\n",
       "    </tr>\n",
       "  </thead>\n",
       "  <tbody>\n",
       "    <tr>\n",
       "      <th rowspan=\"4\" valign=\"top\">phoenix</th>\n",
       "      <th>0.0</th>\n",
       "      <td>113.0</td>\n",
       "      <td>0.698508</td>\n",
       "      <td>0.791667</td>\n",
       "      <td>0.295794</td>\n",
       "      <td>0.032787</td>\n",
       "    </tr>\n",
       "    <tr>\n",
       "      <th>1.0</th>\n",
       "      <td>471.0</td>\n",
       "      <td>0.659525</td>\n",
       "      <td>0.708333</td>\n",
       "      <td>0.289749</td>\n",
       "      <td>0.030303</td>\n",
       "    </tr>\n",
       "    <tr>\n",
       "      <th>2.0</th>\n",
       "      <td>467.0</td>\n",
       "      <td>0.609318</td>\n",
       "      <td>0.639344</td>\n",
       "      <td>0.308267</td>\n",
       "      <td>0.016393</td>\n",
       "    </tr>\n",
       "    <tr>\n",
       "      <th>3.0</th>\n",
       "      <td>282.0</td>\n",
       "      <td>0.642374</td>\n",
       "      <td>0.704918</td>\n",
       "      <td>0.302152</td>\n",
       "      <td>0.016393</td>\n",
       "    </tr>\n",
       "    <tr>\n",
       "      <th rowspan=\"4\" valign=\"top\">scottsdale</th>\n",
       "      <th>0.0</th>\n",
       "      <td>33.0</td>\n",
       "      <td>0.550554</td>\n",
       "      <td>0.541667</td>\n",
       "      <td>0.315998</td>\n",
       "      <td>0.098361</td>\n",
       "    </tr>\n",
       "    <tr>\n",
       "      <th>1.0</th>\n",
       "      <td>288.0</td>\n",
       "      <td>0.692489</td>\n",
       "      <td>0.803279</td>\n",
       "      <td>0.312201</td>\n",
       "      <td>0.016393</td>\n",
       "    </tr>\n",
       "    <tr>\n",
       "      <th>2.0</th>\n",
       "      <td>659.0</td>\n",
       "      <td>0.592282</td>\n",
       "      <td>0.573770</td>\n",
       "      <td>0.312601</td>\n",
       "      <td>0.016393</td>\n",
       "    </tr>\n",
       "    <tr>\n",
       "      <th>3.0</th>\n",
       "      <td>456.0</td>\n",
       "      <td>0.586111</td>\n",
       "      <td>0.573770</td>\n",
       "      <td>0.313248</td>\n",
       "      <td>0.016393</td>\n",
       "    </tr>\n",
       "    <tr>\n",
       "      <th rowspan=\"4\" valign=\"top\">tempe</th>\n",
       "      <th>0.0</th>\n",
       "      <td>17.0</td>\n",
       "      <td>0.670812</td>\n",
       "      <td>0.791667</td>\n",
       "      <td>0.291923</td>\n",
       "      <td>0.031250</td>\n",
       "    </tr>\n",
       "    <tr>\n",
       "      <th>1.0</th>\n",
       "      <td>74.0</td>\n",
       "      <td>0.652463</td>\n",
       "      <td>0.723019</td>\n",
       "      <td>0.294503</td>\n",
       "      <td>0.071429</td>\n",
       "    </tr>\n",
       "    <tr>\n",
       "      <th>2.0</th>\n",
       "      <td>155.0</td>\n",
       "      <td>0.646352</td>\n",
       "      <td>0.688525</td>\n",
       "      <td>0.307241</td>\n",
       "      <td>0.016393</td>\n",
       "    </tr>\n",
       "    <tr>\n",
       "      <th>3.0</th>\n",
       "      <td>75.0</td>\n",
       "      <td>0.607102</td>\n",
       "      <td>0.704918</td>\n",
       "      <td>0.308591</td>\n",
       "      <td>0.016393</td>\n",
       "    </tr>\n",
       "  </tbody>\n",
       "</table>\n",
       "</div>"
      ],
      "text/plain": [
       "                                   size                mean  \\\n",
       "                    occupancy_ratio_all occupancy_ratio_all   \n",
       "city       bedrooms                                           \n",
       "phoenix    0.0                    113.0            0.698508   \n",
       "           1.0                    471.0            0.659525   \n",
       "           2.0                    467.0            0.609318   \n",
       "           3.0                    282.0            0.642374   \n",
       "scottsdale 0.0                     33.0            0.550554   \n",
       "           1.0                    288.0            0.692489   \n",
       "           2.0                    659.0            0.592282   \n",
       "           3.0                    456.0            0.586111   \n",
       "tempe      0.0                     17.0            0.670812   \n",
       "           1.0                     74.0            0.652463   \n",
       "           2.0                    155.0            0.646352   \n",
       "           3.0                     75.0            0.607102   \n",
       "\n",
       "                                 median                 std  \\\n",
       "                    occupancy_ratio_all occupancy_ratio_all   \n",
       "city       bedrooms                                           \n",
       "phoenix    0.0                 0.791667            0.295794   \n",
       "           1.0                 0.708333            0.289749   \n",
       "           2.0                 0.639344            0.308267   \n",
       "           3.0                 0.704918            0.302152   \n",
       "scottsdale 0.0                 0.541667            0.315998   \n",
       "           1.0                 0.803279            0.312201   \n",
       "           2.0                 0.573770            0.312601   \n",
       "           3.0                 0.573770            0.313248   \n",
       "tempe      0.0                 0.791667            0.291923   \n",
       "           1.0                 0.723019            0.294503   \n",
       "           2.0                 0.688525            0.307241   \n",
       "           3.0                 0.704918            0.308591   \n",
       "\n",
       "                                   amin  \n",
       "                    occupancy_ratio_all  \n",
       "city       bedrooms                      \n",
       "phoenix    0.0                 0.032787  \n",
       "           1.0                 0.030303  \n",
       "           2.0                 0.016393  \n",
       "           3.0                 0.016393  \n",
       "scottsdale 0.0                 0.098361  \n",
       "           1.0                 0.016393  \n",
       "           2.0                 0.016393  \n",
       "           3.0                 0.016393  \n",
       "tempe      0.0                 0.031250  \n",
       "           1.0                 0.071429  \n",
       "           2.0                 0.016393  \n",
       "           3.0                 0.016393  "
      ]
     },
     "execution_count": 22,
     "metadata": {},
     "output_type": "execute_result"
    }
   ],
   "source": [
    "subset = df.loc[(df['city'].isin(['phoenix', 'tempe', 'scottsdale'])) & (df['bedrooms'] <= 3)]\n",
    "temp = pd.pivot_table(subset, values = ['occupancy_ratio_all'], index = ['city', 'bedrooms'],\n",
    "                     aggfunc = [np.size, np.mean, np.median, np.std, np.min])\n",
    "temp"
   ]
  },
  {
   "cell_type": "markdown",
   "metadata": {},
   "source": [
    "#### How does price vary by property type?"
   ]
  },
  {
   "cell_type": "markdown",
   "metadata": {},
   "source": [
    "The following shows price adjusted for cleaning fee, assuming a 3 night stay. (Daily Rate * 1/3 cleaning fee)."
   ]
  },
  {
   "cell_type": "code",
   "execution_count": 23,
   "metadata": {},
   "outputs": [
    {
     "data": {
      "text/plain": [
       "<matplotlib.legend.Legend at 0x7f31f44398d0>"
      ]
     },
     "execution_count": 23,
     "metadata": {},
     "output_type": "execute_result"
    },
    {
     "data": {
      "image/png": "[encoded data removed]",
      "text/plain": [
       "<Figure size 720x360 with 1 Axes>"
      ]
     },
     "metadata": {},
     "output_type": "display_data"
    }
   ],
   "source": [
    "temp_0 = df.loc[df['bedrooms'] == 0]['price_w_cleaning']\n",
    "temp_1 = df.loc[df['bedrooms'] == 1]['price_w_cleaning']\n",
    "temp_2 = df.loc[df['bedrooms'] == 2]['price_w_cleaning']\n",
    "temp_3 = df.loc[df['bedrooms'] == 3]['price_w_cleaning']\n",
    "\n",
    "sns.distplot(temp_0, label = 'studio', kde = True, hist = False)\n",
    "sns.distplot(temp_1, label = '1 bedroom', kde = True, hist = False)\n",
    "sns.distplot(temp_2, label = '2 bedrooms', kde = True, hist = False)\n",
    "sns.distplot(temp_3, label = '3 bedrooms', kde = True, hist = False)\n",
    "plt.legend()"
   ]
  },
  {
   "cell_type": "markdown",
   "metadata": {},
   "source": [
    "Three bedrooms definately charge higher than 2 bedrooms."
   ]
  },
  {
   "cell_type": "code",
   "execution_count": 24,
   "metadata": {},
   "outputs": [
    {
     "data": {
      "text/html": [
       "<div>\n",
       "<style scoped>\n",
       "    .dataframe tbody tr th:only-of-type {\n",
       "        vertical-align: middle;\n",
       "    }\n",
       "\n",
       "    .dataframe tbody tr th {\n",
       "        vertical-align: top;\n",
       "    }\n",
       "\n",
       "    .dataframe thead tr th {\n",
       "        text-align: left;\n",
       "    }\n",
       "\n",
       "    .dataframe thead tr:last-of-type th {\n",
       "        text-align: right;\n",
       "    }\n",
       "</style>\n",
       "<table border=\"1\" class=\"dataframe\">\n",
       "  <thead>\n",
       "    <tr>\n",
       "      <th></th>\n",
       "      <th></th>\n",
       "      <th>mean</th>\n",
       "      <th>median</th>\n",
       "      <th>std</th>\n",
       "      <th>amin</th>\n",
       "      <th>amax</th>\n",
       "    </tr>\n",
       "    <tr>\n",
       "      <th></th>\n",
       "      <th></th>\n",
       "      <th>price_w_cleaning</th>\n",
       "      <th>price_w_cleaning</th>\n",
       "      <th>price_w_cleaning</th>\n",
       "      <th>price_w_cleaning</th>\n",
       "      <th>price_w_cleaning</th>\n",
       "    </tr>\n",
       "    <tr>\n",
       "      <th>city</th>\n",
       "      <th>bedrooms</th>\n",
       "      <th></th>\n",
       "      <th></th>\n",
       "      <th></th>\n",
       "      <th></th>\n",
       "      <th></th>\n",
       "    </tr>\n",
       "  </thead>\n",
       "  <tbody>\n",
       "    <tr>\n",
       "      <th rowspan=\"4\" valign=\"top\">phoenix</th>\n",
       "      <th>0.0</th>\n",
       "      <td>78.216365</td>\n",
       "      <td>73.000000</td>\n",
       "      <td>27.612728</td>\n",
       "      <td>35.000000</td>\n",
       "      <td>170.000000</td>\n",
       "    </tr>\n",
       "    <tr>\n",
       "      <th>1.0</th>\n",
       "      <td>101.975429</td>\n",
       "      <td>92.000001</td>\n",
       "      <td>38.789053</td>\n",
       "      <td>33.608696</td>\n",
       "      <td>244.067797</td>\n",
       "    </tr>\n",
       "    <tr>\n",
       "      <th>2.0</th>\n",
       "      <td>146.312399</td>\n",
       "      <td>137.385967</td>\n",
       "      <td>52.882873</td>\n",
       "      <td>10.000000</td>\n",
       "      <td>311.428571</td>\n",
       "    </tr>\n",
       "    <tr>\n",
       "      <th>3.0</th>\n",
       "      <td>203.543648</td>\n",
       "      <td>187.083334</td>\n",
       "      <td>82.697179</td>\n",
       "      <td>38.333333</td>\n",
       "      <td>470.480231</td>\n",
       "    </tr>\n",
       "    <tr>\n",
       "      <th rowspan=\"4\" valign=\"top\">scottsdale</th>\n",
       "      <th>0.0</th>\n",
       "      <td>105.802860</td>\n",
       "      <td>97.533334</td>\n",
       "      <td>41.017945</td>\n",
       "      <td>54.275364</td>\n",
       "      <td>218.483333</td>\n",
       "    </tr>\n",
       "    <tr>\n",
       "      <th>1.0</th>\n",
       "      <td>124.082894</td>\n",
       "      <td>115.500003</td>\n",
       "      <td>43.026740</td>\n",
       "      <td>40.000000</td>\n",
       "      <td>263.476193</td>\n",
       "    </tr>\n",
       "    <tr>\n",
       "      <th>2.0</th>\n",
       "      <td>161.220075</td>\n",
       "      <td>150.177306</td>\n",
       "      <td>55.054379</td>\n",
       "      <td>46.368421</td>\n",
       "      <td>364.520000</td>\n",
       "    </tr>\n",
       "    <tr>\n",
       "      <th>3.0</th>\n",
       "      <td>256.960709</td>\n",
       "      <td>245.715388</td>\n",
       "      <td>90.621473</td>\n",
       "      <td>96.666668</td>\n",
       "      <td>565.666667</td>\n",
       "    </tr>\n",
       "    <tr>\n",
       "      <th rowspan=\"4\" valign=\"top\">tempe</th>\n",
       "      <th>0.0</th>\n",
       "      <td>88.240309</td>\n",
       "      <td>83.333334</td>\n",
       "      <td>33.277340</td>\n",
       "      <td>54.894737</td>\n",
       "      <td>175.000000</td>\n",
       "    </tr>\n",
       "    <tr>\n",
       "      <th>1.0</th>\n",
       "      <td>122.115268</td>\n",
       "      <td>121.083334</td>\n",
       "      <td>45.908413</td>\n",
       "      <td>43.458333</td>\n",
       "      <td>234.000000</td>\n",
       "    </tr>\n",
       "    <tr>\n",
       "      <th>2.0</th>\n",
       "      <td>147.316289</td>\n",
       "      <td>141.028249</td>\n",
       "      <td>42.621872</td>\n",
       "      <td>65.583333</td>\n",
       "      <td>299.000000</td>\n",
       "    </tr>\n",
       "    <tr>\n",
       "      <th>3.0</th>\n",
       "      <td>197.967185</td>\n",
       "      <td>180.000000</td>\n",
       "      <td>78.697016</td>\n",
       "      <td>71.000000</td>\n",
       "      <td>450.000000</td>\n",
       "    </tr>\n",
       "  </tbody>\n",
       "</table>\n",
       "</div>"
      ],
      "text/plain": [
       "                                mean           median              std  \\\n",
       "                    price_w_cleaning price_w_cleaning price_w_cleaning   \n",
       "city       bedrooms                                                      \n",
       "phoenix    0.0             78.216365        73.000000        27.612728   \n",
       "           1.0            101.975429        92.000001        38.789053   \n",
       "           2.0            146.312399       137.385967        52.882873   \n",
       "           3.0            203.543648       187.083334        82.697179   \n",
       "scottsdale 0.0            105.802860        97.533334        41.017945   \n",
       "           1.0            124.082894       115.500003        43.026740   \n",
       "           2.0            161.220075       150.177306        55.054379   \n",
       "           3.0            256.960709       245.715388        90.621473   \n",
       "tempe      0.0             88.240309        83.333334        33.277340   \n",
       "           1.0            122.115268       121.083334        45.908413   \n",
       "           2.0            147.316289       141.028249        42.621872   \n",
       "           3.0            197.967185       180.000000        78.697016   \n",
       "\n",
       "                                amin             amax  \n",
       "                    price_w_cleaning price_w_cleaning  \n",
       "city       bedrooms                                    \n",
       "phoenix    0.0             35.000000       170.000000  \n",
       "           1.0             33.608696       244.067797  \n",
       "           2.0             10.000000       311.428571  \n",
       "           3.0             38.333333       470.480231  \n",
       "scottsdale 0.0             54.275364       218.483333  \n",
       "           1.0             40.000000       263.476193  \n",
       "           2.0             46.368421       364.520000  \n",
       "           3.0             96.666668       565.666667  \n",
       "tempe      0.0             54.894737       175.000000  \n",
       "           1.0             43.458333       234.000000  \n",
       "           2.0             65.583333       299.000000  \n",
       "           3.0             71.000000       450.000000  "
      ]
     },
     "execution_count": 24,
     "metadata": {},
     "output_type": "execute_result"
    }
   ],
   "source": [
    "subset = df.loc[(df['city'].isin(['phoenix', 'tempe', 'scottsdale'])) & (df['bedrooms'] <= 3)]\n",
    "temp = pd.pivot_table(subset, values = ['price_w_cleaning'], index = ['city', 'bedrooms'],\n",
    "                     aggfunc = [np.mean, np.median, np.std, np.min, np.max])\n",
    "temp"
   ]
  },
  {
   "cell_type": "markdown",
   "metadata": {},
   "source": [
    "The following shows price excluding cleaning fee."
   ]
  },
  {
   "cell_type": "code",
   "execution_count": 25,
   "metadata": {},
   "outputs": [
    {
     "data": {
      "text/html": [
       "<div>\n",
       "<style scoped>\n",
       "    .dataframe tbody tr th:only-of-type {\n",
       "        vertical-align: middle;\n",
       "    }\n",
       "\n",
       "    .dataframe tbody tr th {\n",
       "        vertical-align: top;\n",
       "    }\n",
       "\n",
       "    .dataframe thead tr th {\n",
       "        text-align: left;\n",
       "    }\n",
       "\n",
       "    .dataframe thead tr:last-of-type th {\n",
       "        text-align: right;\n",
       "    }\n",
       "</style>\n",
       "<table border=\"1\" class=\"dataframe\">\n",
       "  <thead>\n",
       "    <tr>\n",
       "      <th></th>\n",
       "      <th></th>\n",
       "      <th>mean</th>\n",
       "      <th>median</th>\n",
       "      <th>std</th>\n",
       "      <th>amin</th>\n",
       "      <th>amax</th>\n",
       "    </tr>\n",
       "    <tr>\n",
       "      <th></th>\n",
       "      <th></th>\n",
       "      <th>mean_price</th>\n",
       "      <th>mean_price</th>\n",
       "      <th>mean_price</th>\n",
       "      <th>mean_price</th>\n",
       "      <th>mean_price</th>\n",
       "    </tr>\n",
       "    <tr>\n",
       "      <th>city</th>\n",
       "      <th>bedrooms</th>\n",
       "      <th></th>\n",
       "      <th></th>\n",
       "      <th></th>\n",
       "      <th></th>\n",
       "      <th></th>\n",
       "    </tr>\n",
       "  </thead>\n",
       "  <tbody>\n",
       "    <tr>\n",
       "      <th rowspan=\"4\" valign=\"top\">phoenix</th>\n",
       "      <th>0.0</th>\n",
       "      <td>67.735538</td>\n",
       "      <td>61.480769</td>\n",
       "      <td>27.039036</td>\n",
       "      <td>23.000000</td>\n",
       "      <td>159.220339</td>\n",
       "    </tr>\n",
       "    <tr>\n",
       "      <th>1.0</th>\n",
       "      <td>85.718529</td>\n",
       "      <td>77.000000</td>\n",
       "      <td>36.716016</td>\n",
       "      <td>29.000000</td>\n",
       "      <td>200.000000</td>\n",
       "    </tr>\n",
       "    <tr>\n",
       "      <th>2.0</th>\n",
       "      <td>118.522962</td>\n",
       "      <td>107.083333</td>\n",
       "      <td>48.033562</td>\n",
       "      <td>10.000000</td>\n",
       "      <td>258.833333</td>\n",
       "    </tr>\n",
       "    <tr>\n",
       "      <th>3.0</th>\n",
       "      <td>163.731590</td>\n",
       "      <td>148.704082</td>\n",
       "      <td>71.730013</td>\n",
       "      <td>38.333333</td>\n",
       "      <td>399.000000</td>\n",
       "    </tr>\n",
       "    <tr>\n",
       "      <th rowspan=\"4\" valign=\"top\">scottsdale</th>\n",
       "      <th>0.0</th>\n",
       "      <td>93.136193</td>\n",
       "      <td>90.035714</td>\n",
       "      <td>37.452556</td>\n",
       "      <td>37.608696</td>\n",
       "      <td>168.483333</td>\n",
       "    </tr>\n",
       "    <tr>\n",
       "      <th>1.0</th>\n",
       "      <td>98.991458</td>\n",
       "      <td>86.853409</td>\n",
       "      <td>41.009802</td>\n",
       "      <td>35.000000</td>\n",
       "      <td>225.000000</td>\n",
       "    </tr>\n",
       "    <tr>\n",
       "      <th>2.0</th>\n",
       "      <td>120.599942</td>\n",
       "      <td>108.510638</td>\n",
       "      <td>49.785376</td>\n",
       "      <td>36.000000</td>\n",
       "      <td>267.000000</td>\n",
       "    </tr>\n",
       "    <tr>\n",
       "      <th>3.0</th>\n",
       "      <td>203.657345</td>\n",
       "      <td>189.451271</td>\n",
       "      <td>84.805565</td>\n",
       "      <td>52.285714</td>\n",
       "      <td>423.728814</td>\n",
       "    </tr>\n",
       "    <tr>\n",
       "      <th rowspan=\"4\" valign=\"top\">tempe</th>\n",
       "      <th>0.0</th>\n",
       "      <td>78.240309</td>\n",
       "      <td>75.000000</td>\n",
       "      <td>33.391312</td>\n",
       "      <td>45.727273</td>\n",
       "      <td>175.000000</td>\n",
       "    </tr>\n",
       "    <tr>\n",
       "      <th>1.0</th>\n",
       "      <td>103.687339</td>\n",
       "      <td>94.653061</td>\n",
       "      <td>45.617449</td>\n",
       "      <td>25.000000</td>\n",
       "      <td>209.000000</td>\n",
       "    </tr>\n",
       "    <tr>\n",
       "      <th>2.0</th>\n",
       "      <td>120.875428</td>\n",
       "      <td>111.333333</td>\n",
       "      <td>43.216047</td>\n",
       "      <td>47.744186</td>\n",
       "      <td>249.000000</td>\n",
       "    </tr>\n",
       "    <tr>\n",
       "      <th>3.0</th>\n",
       "      <td>158.207184</td>\n",
       "      <td>139.000000</td>\n",
       "      <td>75.191980</td>\n",
       "      <td>71.000000</td>\n",
       "      <td>400.000000</td>\n",
       "    </tr>\n",
       "  </tbody>\n",
       "</table>\n",
       "</div>"
      ],
      "text/plain": [
       "                           mean      median        std       amin        amax\n",
       "                     mean_price  mean_price mean_price mean_price  mean_price\n",
       "city       bedrooms                                                          \n",
       "phoenix    0.0        67.735538   61.480769  27.039036  23.000000  159.220339\n",
       "           1.0        85.718529   77.000000  36.716016  29.000000  200.000000\n",
       "           2.0       118.522962  107.083333  48.033562  10.000000  258.833333\n",
       "           3.0       163.731590  148.704082  71.730013  38.333333  399.000000\n",
       "scottsdale 0.0        93.136193   90.035714  37.452556  37.608696  168.483333\n",
       "           1.0        98.991458   86.853409  41.009802  35.000000  225.000000\n",
       "           2.0       120.599942  108.510638  49.785376  36.000000  267.000000\n",
       "           3.0       203.657345  189.451271  84.805565  52.285714  423.728814\n",
       "tempe      0.0        78.240309   75.000000  33.391312  45.727273  175.000000\n",
       "           1.0       103.687339   94.653061  45.617449  25.000000  209.000000\n",
       "           2.0       120.875428  111.333333  43.216047  47.744186  249.000000\n",
       "           3.0       158.207184  139.000000  75.191980  71.000000  400.000000"
      ]
     },
     "execution_count": 25,
     "metadata": {},
     "output_type": "execute_result"
    }
   ],
   "source": [
    "subset = df.loc[(df['city'].isin(['phoenix', 'tempe', 'scottsdale'])) & (df['bedrooms'] <= 3)]\n",
    "temp = pd.pivot_table(subset, values = ['mean_price'], index = ['city', 'bedrooms'],\n",
    "                     aggfunc = [np.mean, np.median, np.std, np.min, np.max])\n",
    "temp"
   ]
  },
  {
   "cell_type": "markdown",
   "metadata": {},
   "source": [
    "Below shows the cleaning fee.  Three bedrooms charges higher cleaning fee.  "
   ]
  },
  {
   "cell_type": "code",
   "execution_count": 26,
   "metadata": {},
   "outputs": [
    {
     "data": {
      "text/html": [
       "<div>\n",
       "<style scoped>\n",
       "    .dataframe tbody tr th:only-of-type {\n",
       "        vertical-align: middle;\n",
       "    }\n",
       "\n",
       "    .dataframe tbody tr th {\n",
       "        vertical-align: top;\n",
       "    }\n",
       "\n",
       "    .dataframe thead tr th {\n",
       "        text-align: left;\n",
       "    }\n",
       "\n",
       "    .dataframe thead tr:last-of-type th {\n",
       "        text-align: right;\n",
       "    }\n",
       "</style>\n",
       "<table border=\"1\" class=\"dataframe\">\n",
       "  <thead>\n",
       "    <tr>\n",
       "      <th></th>\n",
       "      <th>mean</th>\n",
       "      <th>median</th>\n",
       "      <th>std</th>\n",
       "      <th>amin</th>\n",
       "      <th>amax</th>\n",
       "    </tr>\n",
       "    <tr>\n",
       "      <th></th>\n",
       "      <th>cleaning_fee</th>\n",
       "      <th>cleaning_fee</th>\n",
       "      <th>cleaning_fee</th>\n",
       "      <th>cleaning_fee</th>\n",
       "      <th>cleaning_fee</th>\n",
       "    </tr>\n",
       "    <tr>\n",
       "      <th>bedrooms</th>\n",
       "      <th></th>\n",
       "      <th></th>\n",
       "      <th></th>\n",
       "      <th></th>\n",
       "      <th></th>\n",
       "    </tr>\n",
       "  </thead>\n",
       "  <tbody>\n",
       "    <tr>\n",
       "      <th>0.0</th>\n",
       "      <td>32.619633</td>\n",
       "      <td>30.0</td>\n",
       "      <td>27.540813</td>\n",
       "      <td>0.0</td>\n",
       "      <td>150.0</td>\n",
       "    </tr>\n",
       "    <tr>\n",
       "      <th>1.0</th>\n",
       "      <td>58.512604</td>\n",
       "      <td>50.0</td>\n",
       "      <td>47.993740</td>\n",
       "      <td>0.0</td>\n",
       "      <td>300.0</td>\n",
       "    </tr>\n",
       "    <tr>\n",
       "      <th>2.0</th>\n",
       "      <td>102.680717</td>\n",
       "      <td>100.0</td>\n",
       "      <td>64.846115</td>\n",
       "      <td>0.0</td>\n",
       "      <td>460.0</td>\n",
       "    </tr>\n",
       "    <tr>\n",
       "      <th>3.0</th>\n",
       "      <td>142.123001</td>\n",
       "      <td>140.0</td>\n",
       "      <td>85.004631</td>\n",
       "      <td>0.0</td>\n",
       "      <td>500.0</td>\n",
       "    </tr>\n",
       "  </tbody>\n",
       "</table>\n",
       "</div>"
      ],
      "text/plain": [
       "                 mean       median          std         amin         amax\n",
       "         cleaning_fee cleaning_fee cleaning_fee cleaning_fee cleaning_fee\n",
       "bedrooms                                                                 \n",
       "0.0         32.619633         30.0    27.540813          0.0        150.0\n",
       "1.0         58.512604         50.0    47.993740          0.0        300.0\n",
       "2.0        102.680717        100.0    64.846115          0.0        460.0\n",
       "3.0        142.123001        140.0    85.004631          0.0        500.0"
      ]
     },
     "execution_count": 26,
     "metadata": {},
     "output_type": "execute_result"
    }
   ],
   "source": [
    "subset = df.loc[(df['city'].isin(['phoenix', 'tempe', 'scottsdale'])) & (df['bedrooms'] <= 3)]\n",
    "temp = pd.pivot_table(subset, values = ['cleaning_fee'], index = ['bedrooms'],\n",
    "                     aggfunc = [ np.mean, np.median, np.std, np.min, np.max])\n",
    "temp"
   ]
  },
  {
   "cell_type": "markdown",
   "metadata": {},
   "source": [
    "### How much value does having a pool add to the property?"
   ]
  },
  {
   "cell_type": "markdown",
   "metadata": {},
   "source": [
    "Having a pool definatley can charge more."
   ]
  },
  {
   "cell_type": "code",
   "execution_count": 27,
   "metadata": {},
   "outputs": [
    {
     "data": {
      "text/html": [
       "<div>\n",
       "<style scoped>\n",
       "    .dataframe tbody tr th:only-of-type {\n",
       "        vertical-align: middle;\n",
       "    }\n",
       "\n",
       "    .dataframe tbody tr th {\n",
       "        vertical-align: top;\n",
       "    }\n",
       "\n",
       "    .dataframe thead tr th {\n",
       "        text-align: left;\n",
       "    }\n",
       "\n",
       "    .dataframe thead tr:last-of-type th {\n",
       "        text-align: right;\n",
       "    }\n",
       "</style>\n",
       "<table border=\"1\" class=\"dataframe\">\n",
       "  <thead>\n",
       "    <tr>\n",
       "      <th></th>\n",
       "      <th>median</th>\n",
       "    </tr>\n",
       "    <tr>\n",
       "      <th></th>\n",
       "      <th>price_w_cleaning</th>\n",
       "    </tr>\n",
       "    <tr>\n",
       "      <th>has_pool</th>\n",
       "      <th></th>\n",
       "    </tr>\n",
       "  </thead>\n",
       "  <tbody>\n",
       "    <tr>\n",
       "      <th>0</th>\n",
       "      <td>115.383333</td>\n",
       "    </tr>\n",
       "    <tr>\n",
       "      <th>1</th>\n",
       "      <td>151.617249</td>\n",
       "    </tr>\n",
       "  </tbody>\n",
       "</table>\n",
       "</div>"
      ],
      "text/plain": [
       "                   median\n",
       "         price_w_cleaning\n",
       "has_pool                 \n",
       "0              115.383333\n",
       "1              151.617249"
      ]
     },
     "execution_count": 27,
     "metadata": {},
     "output_type": "execute_result"
    }
   ],
   "source": [
    "subset = df.loc[(df['city'].isin(['phoenix', 'tempe', 'scottsdale'])) & (df['bedrooms'] <= 3)]\n",
    "temp = pd.pivot_table(subset, values = ['price_w_cleaning'], index = ['has_pool'],\n",
    "                     aggfunc = [np.median])\n",
    "temp"
   ]
  },
  {
   "cell_type": "markdown",
   "metadata": {},
   "source": [
    "Having a pool also generates more revenue."
   ]
  },
  {
   "cell_type": "code",
   "execution_count": 28,
   "metadata": {},
   "outputs": [
    {
     "data": {
      "text/html": [
       "<div>\n",
       "<style scoped>\n",
       "    .dataframe tbody tr th:only-of-type {\n",
       "        vertical-align: middle;\n",
       "    }\n",
       "\n",
       "    .dataframe tbody tr th {\n",
       "        vertical-align: top;\n",
       "    }\n",
       "\n",
       "    .dataframe thead tr th {\n",
       "        text-align: left;\n",
       "    }\n",
       "\n",
       "    .dataframe thead tr:last-of-type th {\n",
       "        text-align: right;\n",
       "    }\n",
       "</style>\n",
       "<table border=\"1\" class=\"dataframe\">\n",
       "  <thead>\n",
       "    <tr>\n",
       "      <th></th>\n",
       "      <th>median</th>\n",
       "    </tr>\n",
       "    <tr>\n",
       "      <th></th>\n",
       "      <th>Total_Revenue_May_Apr</th>\n",
       "    </tr>\n",
       "    <tr>\n",
       "      <th>has_pool</th>\n",
       "      <th></th>\n",
       "    </tr>\n",
       "  </thead>\n",
       "  <tbody>\n",
       "    <tr>\n",
       "      <th>0</th>\n",
       "      <td>2992.5</td>\n",
       "    </tr>\n",
       "    <tr>\n",
       "      <th>1</th>\n",
       "      <td>3956.0</td>\n",
       "    </tr>\n",
       "  </tbody>\n",
       "</table>\n",
       "</div>"
      ],
      "text/plain": [
       "                        median\n",
       "         Total_Revenue_May_Apr\n",
       "has_pool                      \n",
       "0                       2992.5\n",
       "1                       3956.0"
      ]
     },
     "execution_count": 28,
     "metadata": {},
     "output_type": "execute_result"
    }
   ],
   "source": [
    "subset = df.loc[(df['city'].isin(['phoenix', 'tempe', 'scottsdale'])) & (df['bedrooms'] <= 3)]\n",
    "temp = pd.pivot_table(subset, values = ['Total_Revenue_May_Apr'], index = ['has_pool'],\n",
    "                     aggfunc = [np.median])\n",
    "temp"
   ]
  },
  {
   "cell_type": "markdown",
   "metadata": {},
   "source": [
    "However, the occupancy ratio is approximately the same between having a pool or not."
   ]
  },
  {
   "cell_type": "code",
   "execution_count": 29,
   "metadata": {},
   "outputs": [
    {
     "data": {
      "text/html": [
       "<div>\n",
       "<style scoped>\n",
       "    .dataframe tbody tr th:only-of-type {\n",
       "        vertical-align: middle;\n",
       "    }\n",
       "\n",
       "    .dataframe tbody tr th {\n",
       "        vertical-align: top;\n",
       "    }\n",
       "\n",
       "    .dataframe thead tr th {\n",
       "        text-align: left;\n",
       "    }\n",
       "\n",
       "    .dataframe thead tr:last-of-type th {\n",
       "        text-align: right;\n",
       "    }\n",
       "</style>\n",
       "<table border=\"1\" class=\"dataframe\">\n",
       "  <thead>\n",
       "    <tr>\n",
       "      <th></th>\n",
       "      <th>mean</th>\n",
       "      <th>median</th>\n",
       "    </tr>\n",
       "    <tr>\n",
       "      <th></th>\n",
       "      <th>occupancy_ratio_all</th>\n",
       "      <th>occupancy_ratio_all</th>\n",
       "    </tr>\n",
       "    <tr>\n",
       "      <th>has_pool</th>\n",
       "      <th></th>\n",
       "      <th></th>\n",
       "    </tr>\n",
       "  </thead>\n",
       "  <tbody>\n",
       "    <tr>\n",
       "      <th>0</th>\n",
       "      <td>0.637418</td>\n",
       "      <td>0.666667</td>\n",
       "    </tr>\n",
       "    <tr>\n",
       "      <th>1</th>\n",
       "      <td>0.622304</td>\n",
       "      <td>0.655738</td>\n",
       "    </tr>\n",
       "  </tbody>\n",
       "</table>\n",
       "</div>"
      ],
      "text/plain": [
       "                        mean              median\n",
       "         occupancy_ratio_all occupancy_ratio_all\n",
       "has_pool                                        \n",
       "0                   0.637418            0.666667\n",
       "1                   0.622304            0.655738"
      ]
     },
     "execution_count": 29,
     "metadata": {},
     "output_type": "execute_result"
    }
   ],
   "source": [
    "subset = df.loc[(df['city'].isin(['phoenix', 'tempe', 'scottsdale'])) & (df['bedrooms'] <= 3)]\n",
    "temp = pd.pivot_table(subset, values = ['occupancy_ratio_all'], index = ['has_pool'],\n",
    "                     aggfunc = [np.mean, np.median])\n",
    "temp"
   ]
  },
  {
   "cell_type": "markdown",
   "metadata": {},
   "source": [
    "#### Here is a more complicated breakdown of pricing."
   ]
  },
  {
   "cell_type": "code",
   "execution_count": 30,
   "metadata": {},
   "outputs": [
    {
     "data": {
      "text/html": [
       "<div>\n",
       "<style scoped>\n",
       "    .dataframe tbody tr th:only-of-type {\n",
       "        vertical-align: middle;\n",
       "    }\n",
       "\n",
       "    .dataframe tbody tr th {\n",
       "        vertical-align: top;\n",
       "    }\n",
       "\n",
       "    .dataframe thead tr th {\n",
       "        text-align: left;\n",
       "    }\n",
       "\n",
       "    .dataframe thead tr:last-of-type th {\n",
       "        text-align: right;\n",
       "    }\n",
       "</style>\n",
       "<table border=\"1\" class=\"dataframe\">\n",
       "  <thead>\n",
       "    <tr>\n",
       "      <th></th>\n",
       "      <th></th>\n",
       "      <th></th>\n",
       "      <th>mean</th>\n",
       "      <th>median</th>\n",
       "    </tr>\n",
       "    <tr>\n",
       "      <th></th>\n",
       "      <th></th>\n",
       "      <th></th>\n",
       "      <th>price_w_cleaning</th>\n",
       "      <th>price_w_cleaning</th>\n",
       "    </tr>\n",
       "    <tr>\n",
       "      <th>city</th>\n",
       "      <th>bedrooms</th>\n",
       "      <th>has_pool</th>\n",
       "      <th></th>\n",
       "      <th></th>\n",
       "    </tr>\n",
       "  </thead>\n",
       "  <tbody>\n",
       "    <tr>\n",
       "      <th rowspan=\"8\" valign=\"top\">phoenix</th>\n",
       "      <th rowspan=\"2\" valign=\"top\">0.0</th>\n",
       "      <th>0</th>\n",
       "      <td>71.457422</td>\n",
       "      <td>67.666667</td>\n",
       "    </tr>\n",
       "    <tr>\n",
       "      <th>1</th>\n",
       "      <td>93.279151</td>\n",
       "      <td>86.807018</td>\n",
       "    </tr>\n",
       "    <tr>\n",
       "      <th rowspan=\"2\" valign=\"top\">1.0</th>\n",
       "      <th>0</th>\n",
       "      <td>94.007632</td>\n",
       "      <td>84.876842</td>\n",
       "    </tr>\n",
       "    <tr>\n",
       "      <th>1</th>\n",
       "      <td>109.579552</td>\n",
       "      <td>101.190477</td>\n",
       "    </tr>\n",
       "    <tr>\n",
       "      <th rowspan=\"2\" valign=\"top\">2.0</th>\n",
       "      <th>0</th>\n",
       "      <td>132.632711</td>\n",
       "      <td>122.458334</td>\n",
       "    </tr>\n",
       "    <tr>\n",
       "      <th>1</th>\n",
       "      <td>153.307191</td>\n",
       "      <td>141.666668</td>\n",
       "    </tr>\n",
       "    <tr>\n",
       "      <th rowspan=\"2\" valign=\"top\">3.0</th>\n",
       "      <th>0</th>\n",
       "      <td>191.416746</td>\n",
       "      <td>171.666668</td>\n",
       "    </tr>\n",
       "    <tr>\n",
       "      <th>1</th>\n",
       "      <td>212.924837</td>\n",
       "      <td>193.529412</td>\n",
       "    </tr>\n",
       "    <tr>\n",
       "      <th rowspan=\"8\" valign=\"top\">scottsdale</th>\n",
       "      <th rowspan=\"2\" valign=\"top\">0.0</th>\n",
       "      <th>0</th>\n",
       "      <td>81.081230</td>\n",
       "      <td>77.883334</td>\n",
       "    </tr>\n",
       "    <tr>\n",
       "      <th>1</th>\n",
       "      <td>118.163675</td>\n",
       "      <td>108.151516</td>\n",
       "    </tr>\n",
       "    <tr>\n",
       "      <th rowspan=\"2\" valign=\"top\">1.0</th>\n",
       "      <th>0</th>\n",
       "      <td>118.464809</td>\n",
       "      <td>112.333334</td>\n",
       "    </tr>\n",
       "    <tr>\n",
       "      <th>1</th>\n",
       "      <td>124.711946</td>\n",
       "      <td>116.041668</td>\n",
       "    </tr>\n",
       "    <tr>\n",
       "      <th rowspan=\"2\" valign=\"top\">2.0</th>\n",
       "      <th>0</th>\n",
       "      <td>172.091312</td>\n",
       "      <td>159.650003</td>\n",
       "    </tr>\n",
       "    <tr>\n",
       "      <th>1</th>\n",
       "      <td>160.554846</td>\n",
       "      <td>150.000000</td>\n",
       "    </tr>\n",
       "    <tr>\n",
       "      <th rowspan=\"2\" valign=\"top\">3.0</th>\n",
       "      <th>0</th>\n",
       "      <td>229.595801</td>\n",
       "      <td>215.869565</td>\n",
       "    </tr>\n",
       "    <tr>\n",
       "      <th>1</th>\n",
       "      <td>264.746217</td>\n",
       "      <td>252.555557</td>\n",
       "    </tr>\n",
       "    <tr>\n",
       "      <th rowspan=\"8\" valign=\"top\">tempe</th>\n",
       "      <th rowspan=\"2\" valign=\"top\">0.0</th>\n",
       "      <th>0</th>\n",
       "      <td>75.062664</td>\n",
       "      <td>61.666667</td>\n",
       "    </tr>\n",
       "    <tr>\n",
       "      <th>1</th>\n",
       "      <td>97.464661</td>\n",
       "      <td>97.000001</td>\n",
       "    </tr>\n",
       "    <tr>\n",
       "      <th rowspan=\"2\" valign=\"top\">1.0</th>\n",
       "      <th>0</th>\n",
       "      <td>79.033179</td>\n",
       "      <td>77.851866</td>\n",
       "    </tr>\n",
       "    <tr>\n",
       "      <th>1</th>\n",
       "      <td>140.342306</td>\n",
       "      <td>138.093074</td>\n",
       "    </tr>\n",
       "    <tr>\n",
       "      <th rowspan=\"2\" valign=\"top\">2.0</th>\n",
       "      <th>0</th>\n",
       "      <td>125.512947</td>\n",
       "      <td>131.151516</td>\n",
       "    </tr>\n",
       "    <tr>\n",
       "      <th>1</th>\n",
       "      <td>153.675597</td>\n",
       "      <td>149.833334</td>\n",
       "    </tr>\n",
       "    <tr>\n",
       "      <th rowspan=\"2\" valign=\"top\">3.0</th>\n",
       "      <th>0</th>\n",
       "      <td>187.444120</td>\n",
       "      <td>182.528197</td>\n",
       "    </tr>\n",
       "    <tr>\n",
       "      <th>1</th>\n",
       "      <td>202.919216</td>\n",
       "      <td>176.166672</td>\n",
       "    </tr>\n",
       "  </tbody>\n",
       "</table>\n",
       "</div>"
      ],
      "text/plain": [
       "                                         mean           median\n",
       "                             price_w_cleaning price_w_cleaning\n",
       "city       bedrooms has_pool                                  \n",
       "phoenix    0.0      0               71.457422        67.666667\n",
       "                    1               93.279151        86.807018\n",
       "           1.0      0               94.007632        84.876842\n",
       "                    1              109.579552       101.190477\n",
       "           2.0      0              132.632711       122.458334\n",
       "                    1              153.307191       141.666668\n",
       "           3.0      0              191.416746       171.666668\n",
       "                    1              212.924837       193.529412\n",
       "scottsdale 0.0      0               81.081230        77.883334\n",
       "                    1              118.163675       108.151516\n",
       "           1.0      0              118.464809       112.333334\n",
       "                    1              124.711946       116.041668\n",
       "           2.0      0              172.091312       159.650003\n",
       "                    1              160.554846       150.000000\n",
       "           3.0      0              229.595801       215.869565\n",
       "                    1              264.746217       252.555557\n",
       "tempe      0.0      0               75.062664        61.666667\n",
       "                    1               97.464661        97.000001\n",
       "           1.0      0               79.033179        77.851866\n",
       "                    1              140.342306       138.093074\n",
       "           2.0      0              125.512947       131.151516\n",
       "                    1              153.675597       149.833334\n",
       "           3.0      0              187.444120       182.528197\n",
       "                    1              202.919216       176.166672"
      ]
     },
     "execution_count": 30,
     "metadata": {},
     "output_type": "execute_result"
    }
   ],
   "source": [
    "subset = df.loc[(df['city'].isin(['phoenix', 'tempe', 'scottsdale'])) & (df['bedrooms'] <= 3)]\n",
    "temp = pd.pivot_table(subset, values = ['price_w_cleaning'], index = ['city', 'bedrooms', 'has_pool'],\n",
    "                     aggfunc = [np.mean, np.median])\n",
    "temp"
   ]
  },
  {
   "cell_type": "markdown",
   "metadata": {},
   "source": [
    "### How much value does having more bathrooms add value to the property?"
   ]
  },
  {
   "cell_type": "markdown",
   "metadata": {},
   "source": [
    "Having more than 1 bathroom always adds value.  However, the effect diminishes (adds less value) when having more than 2 bathrooms.  "
   ]
  },
  {
   "cell_type": "code",
   "execution_count": 31,
   "metadata": {},
   "outputs": [
    {
     "data": {
      "text/html": [
       "<div>\n",
       "<style scoped>\n",
       "    .dataframe tbody tr th:only-of-type {\n",
       "        vertical-align: middle;\n",
       "    }\n",
       "\n",
       "    .dataframe tbody tr th {\n",
       "        vertical-align: top;\n",
       "    }\n",
       "\n",
       "    .dataframe thead tr th {\n",
       "        text-align: left;\n",
       "    }\n",
       "\n",
       "    .dataframe thead tr:last-of-type th {\n",
       "        text-align: right;\n",
       "    }\n",
       "</style>\n",
       "<table border=\"1\" class=\"dataframe\">\n",
       "  <thead>\n",
       "    <tr>\n",
       "      <th></th>\n",
       "      <th></th>\n",
       "      <th>size</th>\n",
       "      <th>median</th>\n",
       "    </tr>\n",
       "    <tr>\n",
       "      <th></th>\n",
       "      <th></th>\n",
       "      <th>price_w_cleaning</th>\n",
       "      <th>price_w_cleaning</th>\n",
       "    </tr>\n",
       "    <tr>\n",
       "      <th>bedrooms</th>\n",
       "      <th>bathrooms</th>\n",
       "      <th></th>\n",
       "      <th></th>\n",
       "    </tr>\n",
       "  </thead>\n",
       "  <tbody>\n",
       "    <tr>\n",
       "      <th rowspan=\"3\" valign=\"top\">1.0</th>\n",
       "      <th>1.0</th>\n",
       "      <td>801.0</td>\n",
       "      <td>101.190477</td>\n",
       "    </tr>\n",
       "    <tr>\n",
       "      <th>1.5</th>\n",
       "      <td>19.0</td>\n",
       "      <td>141.666668</td>\n",
       "    </tr>\n",
       "    <tr>\n",
       "      <th>2.0</th>\n",
       "      <td>13.0</td>\n",
       "      <td>124.000000</td>\n",
       "    </tr>\n",
       "    <tr>\n",
       "      <th rowspan=\"7\" valign=\"top\">2.0</th>\n",
       "      <th>1.0</th>\n",
       "      <td>219.0</td>\n",
       "      <td>114.384615</td>\n",
       "    </tr>\n",
       "    <tr>\n",
       "      <th>1.5</th>\n",
       "      <td>92.0</td>\n",
       "      <td>128.302791</td>\n",
       "    </tr>\n",
       "    <tr>\n",
       "      <th>2.0</th>\n",
       "      <td>883.0</td>\n",
       "      <td>152.047620</td>\n",
       "    </tr>\n",
       "    <tr>\n",
       "      <th>2.5</th>\n",
       "      <td>78.0</td>\n",
       "      <td>171.323531</td>\n",
       "    </tr>\n",
       "    <tr>\n",
       "      <th>3.0</th>\n",
       "      <td>7.0</td>\n",
       "      <td>175.000000</td>\n",
       "    </tr>\n",
       "    <tr>\n",
       "      <th>3.5</th>\n",
       "      <td>1.0</td>\n",
       "      <td>136.666672</td>\n",
       "    </tr>\n",
       "    <tr>\n",
       "      <th>4.0</th>\n",
       "      <td>1.0</td>\n",
       "      <td>250.000000</td>\n",
       "    </tr>\n",
       "    <tr>\n",
       "      <th rowspan=\"6\" valign=\"top\">3.0</th>\n",
       "      <th>1.0</th>\n",
       "      <td>25.0</td>\n",
       "      <td>138.333333</td>\n",
       "    </tr>\n",
       "    <tr>\n",
       "      <th>1.5</th>\n",
       "      <td>20.0</td>\n",
       "      <td>149.944807</td>\n",
       "    </tr>\n",
       "    <tr>\n",
       "      <th>2.0</th>\n",
       "      <td>567.0</td>\n",
       "      <td>217.000003</td>\n",
       "    </tr>\n",
       "    <tr>\n",
       "      <th>2.5</th>\n",
       "      <td>122.0</td>\n",
       "      <td>229.100001</td>\n",
       "    </tr>\n",
       "    <tr>\n",
       "      <th>3.0</th>\n",
       "      <td>58.0</td>\n",
       "      <td>249.763160</td>\n",
       "    </tr>\n",
       "    <tr>\n",
       "      <th>3.5</th>\n",
       "      <td>21.0</td>\n",
       "      <td>291.047624</td>\n",
       "    </tr>\n",
       "  </tbody>\n",
       "</table>\n",
       "</div>"
      ],
      "text/plain": [
       "                               size           median\n",
       "                   price_w_cleaning price_w_cleaning\n",
       "bedrooms bathrooms                                  \n",
       "1.0      1.0                  801.0       101.190477\n",
       "         1.5                   19.0       141.666668\n",
       "         2.0                   13.0       124.000000\n",
       "2.0      1.0                  219.0       114.384615\n",
       "         1.5                   92.0       128.302791\n",
       "         2.0                  883.0       152.047620\n",
       "         2.5                   78.0       171.323531\n",
       "         3.0                    7.0       175.000000\n",
       "         3.5                    1.0       136.666672\n",
       "         4.0                    1.0       250.000000\n",
       "3.0      1.0                   25.0       138.333333\n",
       "         1.5                   20.0       149.944807\n",
       "         2.0                  567.0       217.000003\n",
       "         2.5                  122.0       229.100001\n",
       "         3.0                   58.0       249.763160\n",
       "         3.5                   21.0       291.047624"
      ]
     },
     "execution_count": 31,
     "metadata": {},
     "output_type": "execute_result"
    }
   ],
   "source": [
    "subset = df.loc[(df['city'].isin(['phoenix', 'tempe', 'scottsdale'])) \n",
    "                & (df['bedrooms'] <= 3) & (df['bedrooms'] >= 1)]\n",
    "temp = pd.pivot_table(subset, values = ['price_w_cleaning'], index = ['bedrooms', 'bathrooms'],\n",
    "                     aggfunc = [np.size, np.median])\n",
    "temp"
   ]
  },
  {
   "cell_type": "markdown",
   "metadata": {},
   "source": [
    "### How does price vary from the different days of week?"
   ]
  },
  {
   "cell_type": "markdown",
   "metadata": {},
   "source": [
    "As expected, weekend costs more."
   ]
  },
  {
   "cell_type": "code",
   "execution_count": 32,
   "metadata": {},
   "outputs": [
    {
     "data": {
      "image/png": "[encoded data removed]",
      "text/plain": [
       "<Figure size 720x360 with 1 Axes>"
      ]
     },
     "metadata": {},
     "output_type": "display_data"
    }
   ],
   "source": [
    "subset = df.loc[(df['city'].isin(['phoenix', 'tempe', 'scottsdale'])) \n",
    "                & (df['bedrooms'] <= 3)]\n",
    "\n",
    "chart = subset[['meanPrice_Fri', 'meanPrice_Mon', 'meanPrice_Sat', 'meanPrice_Sun', \n",
    "            'meanPrice_Thu', 'meanPrice_Tue','meanPrice_Wed']].median().nsmallest(7).plot(kind = 'barh')"
   ]
  },
  {
   "cell_type": "markdown",
   "metadata": {},
   "source": [
    "April was more expensive than May."
   ]
  },
  {
   "cell_type": "code",
   "execution_count": 33,
   "metadata": {},
   "outputs": [
    {
     "data": {
      "text/plain": [
       "Text(0.5,1,'Mean Price of Properties in May and April')"
      ]
     },
     "execution_count": 33,
     "metadata": {},
     "output_type": "execute_result"
    },
    {
     "data": {
      "image/png": "[encoded data removed]",
      "text/plain": [
       "<Figure size 720x360 with 1 Axes>"
      ]
     },
     "metadata": {},
     "output_type": "display_data"
    }
   ],
   "source": [
    "chart = df[['meanPriceMonth_Apr', 'meanPriceMonth_May']].median().plot(kind = 'barh')\n",
    "plt.title('Mean Price of Properties in May and April')"
   ]
  },
  {
   "cell_type": "code",
   "execution_count": 34,
   "metadata": {},
   "outputs": [
    {
     "data": {
      "text/plain": [
       "Text(0.5,1,'Mean price of properties by month and day of week')"
      ]
     },
     "execution_count": 34,
     "metadata": {},
     "output_type": "execute_result"
    },
    {
     "data": {
      "image/png": "[encoded data removed]",
      "text/plain": [
       "<Figure size 720x360 with 1 Axes>"
      ]
     },
     "metadata": {},
     "output_type": "display_data"
    }
   ],
   "source": [
    "cols = ['meanPrice_Apr_Fri', 'meanPrice_Apr_Mon',\n",
    "       'meanPrice_Apr_Sat', 'meanPrice_Apr_Sun', 'meanPrice_Apr_Thu',\n",
    "       'meanPrice_Apr_Tue', 'meanPrice_Apr_Wed', 'meanPrice_May_Fri',\n",
    "       'meanPrice_May_Mon', 'meanPrice_May_Sat', 'meanPrice_May_Sun',\n",
    "       'meanPrice_May_Thu', 'meanPrice_May_Tue', 'meanPrice_May_Wed']\n",
    "chart = df[cols].median().nsmallest(14).plot(kind = 'barh')\n",
    "plt.title('Mean price of properties by month and day of week')"
   ]
  },
  {
   "cell_type": "markdown",
   "metadata": {},
   "source": [
    "### What is the most popular property type on the platform in each location?"
   ]
  },
  {
   "cell_type": "code",
   "execution_count": 35,
   "metadata": {},
   "outputs": [
    {
     "data": {
      "text/plain": [
       "Text(0.5,1,'Number of Active Properties by City')"
      ]
     },
     "execution_count": 35,
     "metadata": {},
     "output_type": "execute_result"
    },
    {
     "data": {
      "image/png": "[encoded data removed]",
      "text/plain": [
       "<Figure size 720x360 with 1 Axes>"
      ]
     },
     "metadata": {},
     "output_type": "display_data"
    }
   ],
   "source": [
    "subset = df.loc[(df['city'].isin(['phoenix', 'tempe', 'scottsdale'])) \n",
    "                & (df['bedrooms'] <= 4)]\n",
    "\n",
    "sns.countplot(y=\"city\", hue=\"bedrooms\", data=subset)\n",
    "plt.title('Number of Active Properties by City')"
   ]
  },
  {
   "cell_type": "markdown",
   "metadata": {},
   "source": [
    "### How many properties does each manager manage and what is the number of listings with active bookings?"
   ]
  },
  {
   "cell_type": "markdown",
   "metadata": {},
   "source": [
    "Active as determined by if there were bookings in April or May."
   ]
  },
  {
   "cell_type": "code",
   "execution_count": 36,
   "metadata": {},
   "outputs": [
    {
     "data": {
      "text/html": [
       "<div>\n",
       "<style scoped>\n",
       "    .dataframe tbody tr th:only-of-type {\n",
       "        vertical-align: middle;\n",
       "    }\n",
       "\n",
       "    .dataframe tbody tr th {\n",
       "        vertical-align: top;\n",
       "    }\n",
       "\n",
       "    .dataframe thead th {\n",
       "        text-align: right;\n",
       "    }\n",
       "</style>\n",
       "<table border=\"1\" class=\"dataframe\">\n",
       "  <thead>\n",
       "    <tr style=\"text-align: right;\">\n",
       "      <th></th>\n",
       "      <th>Active</th>\n",
       "      <th>Not Active</th>\n",
       "      <th>Total</th>\n",
       "    </tr>\n",
       "    <tr>\n",
       "      <th>host_name</th>\n",
       "      <th></th>\n",
       "      <th></th>\n",
       "      <th></th>\n",
       "    </tr>\n",
       "  </thead>\n",
       "  <tbody>\n",
       "    <tr>\n",
       "      <th>Casago</th>\n",
       "      <td>64</td>\n",
       "      <td>64</td>\n",
       "      <td>128</td>\n",
       "    </tr>\n",
       "    <tr>\n",
       "      <th>Evolve Vacation Rental</th>\n",
       "      <td>151</td>\n",
       "      <td>184</td>\n",
       "      <td>335</td>\n",
       "    </tr>\n",
       "    <tr>\n",
       "      <th>HitRentals</th>\n",
       "      <td>24</td>\n",
       "      <td>8</td>\n",
       "      <td>32</td>\n",
       "    </tr>\n",
       "    <tr>\n",
       "      <th>Latitude 8</th>\n",
       "      <td>3</td>\n",
       "      <td>30</td>\n",
       "      <td>33</td>\n",
       "    </tr>\n",
       "    <tr>\n",
       "      <th>Meridian CondoResorts</th>\n",
       "      <td>34</td>\n",
       "      <td>9</td>\n",
       "      <td>43</td>\n",
       "    </tr>\n",
       "    <tr>\n",
       "      <th>My Rental Advisor</th>\n",
       "      <td>14</td>\n",
       "      <td>3</td>\n",
       "      <td>17</td>\n",
       "    </tr>\n",
       "    <tr>\n",
       "      <th>Pro Housing</th>\n",
       "      <td>12</td>\n",
       "      <td>10</td>\n",
       "      <td>22</td>\n",
       "    </tr>\n",
       "    <tr>\n",
       "      <th>Red Awning</th>\n",
       "      <td>23</td>\n",
       "      <td>28</td>\n",
       "      <td>51</td>\n",
       "    </tr>\n",
       "    <tr>\n",
       "      <th>RentalAdvisor</th>\n",
       "      <td>0</td>\n",
       "      <td>17</td>\n",
       "      <td>17</td>\n",
       "    </tr>\n",
       "    <tr>\n",
       "      <th>Scottsdale</th>\n",
       "      <td>17</td>\n",
       "      <td>24</td>\n",
       "      <td>41</td>\n",
       "    </tr>\n",
       "    <tr>\n",
       "      <th>Stay Alfred</th>\n",
       "      <td>146</td>\n",
       "      <td>7</td>\n",
       "      <td>153</td>\n",
       "    </tr>\n",
       "    <tr>\n",
       "      <th>WanderJaunt</th>\n",
       "      <td>48</td>\n",
       "      <td>3</td>\n",
       "      <td>51</td>\n",
       "    </tr>\n",
       "    <tr>\n",
       "      <th>All</th>\n",
       "      <td>536</td>\n",
       "      <td>387</td>\n",
       "      <td>923</td>\n",
       "    </tr>\n",
       "  </tbody>\n",
       "</table>\n",
       "</div>"
      ],
      "text/plain": [
       "                        Active  Not Active  Total\n",
       "host_name                                        \n",
       "Casago                      64          64    128\n",
       "Evolve Vacation Rental     151         184    335\n",
       "HitRentals                  24           8     32\n",
       "Latitude 8                   3          30     33\n",
       "Meridian CondoResorts       34           9     43\n",
       "My Rental Advisor           14           3     17\n",
       "Pro Housing                 12          10     22\n",
       "Red Awning                  23          28     51\n",
       "RentalAdvisor                0          17     17\n",
       "Scottsdale                  17          24     41\n",
       "Stay Alfred                146           7    153\n",
       "WanderJaunt                 48           3     51\n",
       "All                        536         387    923"
      ]
     },
     "execution_count": 36,
     "metadata": {},
     "output_type": "execute_result"
    }
   ],
   "source": [
    "temp = listing.loc[listing['host_name'].isin(managers)]\n",
    "temp = pd.crosstab(temp['host_name'], temp['exclude'], margins = True)\n",
    "temp.columns = ['Active', 'Not Active', 'Total']\n",
    "temp"
   ]
  },
  {
   "cell_type": "markdown",
   "metadata": {},
   "source": [
    "### How many days in advance do people make a booking?"
   ]
  },
  {
   "cell_type": "markdown",
   "metadata": {},
   "source": [
    "44% of the bookings are made within a day of the stay date."
   ]
  },
  {
   "cell_type": "code",
   "execution_count": 37,
   "metadata": {},
   "outputs": [
    {
     "data": {
      "text/plain": [
       "0.0    0.287807\n",
       "1.0    0.168161\n",
       "2.0    0.092855\n",
       "6.0    0.074570\n",
       "3.0    0.024349\n",
       "5.0    0.023076\n",
       "4.0    0.022498\n",
       "7.0    0.017983\n",
       "8.0    0.016802\n",
       "9.0    0.015266\n",
       "Name: booking_num_days_ahead, dtype: float64"
      ]
     },
     "execution_count": 37,
     "metadata": {},
     "output_type": "execute_result"
    }
   ],
   "source": [
    "price['booking_num_days_ahead'].value_counts(normalize = True).nlargest(10)"
   ]
  },
  {
   "cell_type": "markdown",
   "metadata": {},
   "source": [
    "### What is the day of the week that most bookings are made?"
   ]
  },
  {
   "cell_type": "markdown",
   "metadata": {},
   "source": [
    "Most bookings are made on Tuesday, and least on the weekends."
   ]
  },
  {
   "cell_type": "code",
   "execution_count": 38,
   "metadata": {},
   "outputs": [
    {
     "data": {
      "text/plain": [
       "Tue    0.172444\n",
       "Mon    0.160677\n",
       "Thu    0.155797\n",
       "Sun    0.151738\n",
       "Wed    0.139971\n",
       "Fri    0.115890\n",
       "Sat    0.103484\n",
       "Name: booked_date_weekday, dtype: float64"
      ]
     },
     "execution_count": 38,
     "metadata": {},
     "output_type": "execute_result"
    }
   ],
   "source": [
    "price['booked_date_weekday'].value_counts(normalize = True).nlargest(7)"
   ]
  },
  {
   "cell_type": "markdown",
   "metadata": {},
   "source": [
    "### What is the average number of days per stay?"
   ]
  },
  {
   "cell_type": "markdown",
   "metadata": {},
   "source": [
    "Majority of the stays are just for one day."
   ]
  },
  {
   "cell_type": "code",
   "execution_count": 39,
   "metadata": {},
   "outputs": [
    {
     "data": {
      "text/plain": [
       "1.0     0.518607\n",
       "2.0     0.088904\n",
       "3.0     0.085085\n",
       "4.0     0.073153\n",
       "5.0     0.056181\n",
       "7.0     0.039865\n",
       "6.0     0.038893\n",
       "8.0     0.021540\n",
       "9.0     0.016473\n",
       "11.0    0.014045\n",
       "10.0    0.013861\n",
       "13.0    0.012155\n",
       "12.0    0.011551\n",
       "14.0    0.009687\n",
       "Name: num_days_booked, dtype: float64"
      ]
     },
     "execution_count": 39,
     "metadata": {},
     "output_type": "execute_result"
    }
   ],
   "source": [
    "price['num_days_booked'].value_counts(normalize = True)"
   ]
  },
  {
   "cell_type": "markdown",
   "metadata": {},
   "source": [
    "### What are the most important features of pricing?"
   ]
  },
  {
   "cell_type": "markdown",
   "metadata": {},
   "source": [
    "From running a quick model, the number of bedrooms is the primary factor to determine the price of the property, followed by location."
   ]
  },
  {
   "cell_type": "code",
   "execution_count": 41,
   "metadata": {},
   "outputs": [
    {
     "data": {
      "text/plain": [
       "<matplotlib.axes._subplots.AxesSubplot at 0x7f31529f4860>"
      ]
     },
     "execution_count": 41,
     "metadata": {},
     "output_type": "execute_result"
    },
    {
     "data": {
      "image/png": "[encoded data removed]",
      "text/plain": [
       "<Figure size 864x504 with 1 Axes>"
      ]
     },
     "metadata": {},
     "output_type": "display_data"
    }
   ],
   "source": [
    "fi[:20].plot('cols', 'imp', 'barh', figsize=(12,7), legend=False)"
   ]
  },
  {
   "cell_type": "markdown",
   "metadata": {},
   "source": [
    "### What is the relationship between price and occupancy rate?"
   ]
  },
  {
   "cell_type": "markdown",
   "metadata": {},
   "source": [
    "A slight negative relationship is observed between price and occupancy rate."
   ]
  },
  {
   "cell_type": "code",
   "execution_count": 52,
   "metadata": {},
   "outputs": [
    {
     "data": {
      "text/plain": [
       "Text(0.5,1,'One Bedroom Price to Occupancy Rate')"
      ]
     },
     "execution_count": 52,
     "metadata": {},
     "output_type": "execute_result"
    },
    {
     "data": {
      "image/png": "[encoded data removed]",
      "text/plain": [
       "<Figure size 720x360 with 1 Axes>"
      ]
     },
     "metadata": {},
     "output_type": "display_data"
    }
   ],
   "source": [
    "subset = df.loc[(df['bedrooms'] == 1)]\n",
    "sns.regplot(x='price_w_cleaning', y='occupancy_ratio_all', data=subset)\n",
    "plt.title('One Bedroom Price to Occupancy Rate')"
   ]
  },
  {
   "cell_type": "code",
   "execution_count": 53,
   "metadata": {},
   "outputs": [
    {
     "data": {
      "text/plain": [
       "Text(0.5,1,'Two Bedrooms Price to Occupancy Rate')"
      ]
     },
     "execution_count": 53,
     "metadata": {},
     "output_type": "execute_result"
    },
    {
     "data": {
      "image/png": "[encoded data removed]",
      "text/plain": [
       "<Figure size 720x360 with 1 Axes>"
      ]
     },
     "metadata": {},
     "output_type": "display_data"
    }
   ],
   "source": [
    "subset = df.loc[(df['bedrooms'] == 2)]\n",
    "sns.regplot(x='price_w_cleaning', y='occupancy_ratio_all', data=subset)\n",
    "plt.title('Two Bedrooms Price to Occupancy Rate')"
   ]
  },
  {
   "cell_type": "markdown",
   "metadata": {},
   "source": [
    "### How concentrated are the  properties located in Arizona?"
   ]
  },
  {
   "cell_type": "code",
   "execution_count": 42,
   "metadata": {},
   "outputs": [
    {
     "name": "stderr",
     "output_type": "stream",
     "text": [
      "/home/kiki/anaconda3/envs/fastai/lib/python3.6/site-packages/ipykernel_launcher.py:3: SettingWithCopyWarning: \n",
      "A value is trying to be set on a copy of a slice from a DataFrame.\n",
      "Try using .loc[row_indexer,col_indexer] = value instead\n",
      "\n",
      "See the caveats in the documentation: http://pandas.pydata.org/pandas-docs/stable/indexing.html#indexing-view-versus-copy\n",
      "  This is separate from the ipykernel package so we can avoid doing imports until\n"
     ]
    },
    {
     "data": {
      "text/plain": [
       "<matplotlib.collections.PathCollection at 0x7f3152856da0>"
      ]
     },
     "execution_count": 42,
     "metadata": {},
     "output_type": "execute_result"
    },
    {
     "data": {
      "image/png": "[encoded data removed]",
      "text/plain": [
       "<Figure size 720x360 with 1 Axes>"
      ]
     },
     "metadata": {},
     "output_type": "display_data"
    }
   ],
   "source": [
    "subset = df.loc[(df['bedrooms'] <= 4)]\n",
    "\n",
    "subset['bedrooms'] = subset['bedrooms'].astype(str)\n",
    "plt.scatter(x= subset['lon'], y = subset['lat'], alpha = 0.05)"
   ]
  },
  {
   "cell_type": "markdown",
   "metadata": {},
   "source": [
    "## Setup"
   ]
  },
  {
   "cell_type": "markdown",
   "metadata": {},
   "source": [
    "This sections contains the code that needs to be run prior to the Introduction section."
   ]
  },
  {
   "cell_type": "code",
   "execution_count": 1,
   "metadata": {},
   "outputs": [],
   "source": [
    "import numpy as np\n",
    "import pandas as pd\n",
    "import datetime as dt\n",
    "import matplotlib.pyplot as plt\n",
    "import seaborn as sns\n",
    "%matplotlib inline\n",
    "from sklearn.ensemble import RandomForestRegressor\n",
    "from fastai.structured import *\n",
    "from fastai.column_data import *\n",
    "\n",
    "PATH = \"data/wanderjaunt/\"\n",
    "\n",
    "def display_all(df):\n",
    "    with pd.option_context(\"display.max_rows\", 1000, \"display.max_columns\", 1000): \n",
    "        display(df)\n",
    "        \n",
    "price = pd.read_pickle(PATH+'/price.pkl')\n",
    "listing = pd.read_pickle(PATH+'/listing.pkl')\n",
    "\n",
    "df = listing.loc[listing['exclude'] == 0].copy()\n",
    "\n",
    "managers = ['Evolve Vacation Rental', 'Stay Alfred', 'Casago', 'WanderJaunt', 'Red Awning', \n",
    "            'Elite Vacation Rental', 'Meridian CondoResorts',\n",
    "           'Scottsdale', 'Latitude 8', 'HitRentals', 'Pro Housing', 'RentalAdvisor',  'My Rental Advisor']\n"
   ]
  },
  {
   "cell_type": "markdown",
   "metadata": {},
   "source": [
    "#### Remove properties with bad price data."
   ]
  },
  {
   "cell_type": "markdown",
   "metadata": {},
   "source": [
    "Using 95% percentile as tolerance."
   ]
  },
  {
   "cell_type": "code",
   "execution_count": 2,
   "metadata": {},
   "outputs": [],
   "source": [
    "temp_0 = df.loc[df['bedrooms'] == 0]['mean_price']\n",
    "temp_1 = df.loc[df['bedrooms'] == 1]['mean_price']\n",
    "temp_2 = df.loc[df['bedrooms'] == 2]['mean_price']\n",
    "temp_3 = df.loc[df['bedrooms'] == 3]['mean_price']"
   ]
  },
  {
   "cell_type": "code",
   "execution_count": 3,
   "metadata": {},
   "outputs": [],
   "source": [
    "x_0 = np.percentile(temp_0, 95)\n",
    "x_1 = np.percentile(temp_1, 95)\n",
    "x_2 = np.percentile(temp_2, 95)\n",
    "x_3 = np.percentile(temp_3, 95)"
   ]
  },
  {
   "cell_type": "code",
   "execution_count": 4,
   "metadata": {},
   "outputs": [],
   "source": [
    "df.loc[(df['bedrooms'] == 0) & (df['mean_price'] > x_0), 'exclude'] = 1\n",
    "df.loc[(df['bedrooms'] == 1) & (df['mean_price'] > x_1), 'exclude'] = 1\n",
    "df.loc[(df['bedrooms'] == 2) & (df['mean_price'] > x_2), 'exclude'] = 1\n",
    "df.loc[(df['bedrooms'] == 3) & (df['mean_price'] > x_3), 'exclude'] = 1\n",
    "\n",
    "df = df.loc[df['exclude'] == 0].copy()"
   ]
  },
  {
   "cell_type": "code",
   "execution_count": 5,
   "metadata": {},
   "outputs": [],
   "source": [
    "listing.loc[~listing['scraping_id'].isin(df['scraping_id']), 'exlude'] = 1"
   ]
  },
  {
   "cell_type": "markdown",
   "metadata": {},
   "source": [
    "#### Quick model to understand the factors for pricing"
   ]
  },
  {
   "cell_type": "code",
   "execution_count": 6,
   "metadata": {},
   "outputs": [
    {
     "data": {
      "text/plain": [
       "<matplotlib.axes._subplots.AxesSubplot at 0x7f31532266d8>"
      ]
     },
     "execution_count": 6,
     "metadata": {},
     "output_type": "execute_result"
    },
    {
     "data": {
      "image/png": "[encoded data removed]",
      "text/plain": [
       "<Figure size 864x504 with 1 Axes>"
      ]
     },
     "metadata": {},
     "output_type": "display_data"
    }
   ],
   "source": [
    "cols = ['scraping_id', 'date', 'date_wkday', \n",
    "       'week', 'day', 'month', 'manager', \n",
    "       'calc_price_w_cleanFee']\n",
    "valid_properties = df['scraping_id'].unique()\n",
    "data = price.loc[price['scraping_id'].isin(valid_properties), cols]\n",
    "cols = ['scraping_id', 'city', 'lon', 'lat', 'capacity', 'bathrooms', 'bedrooms', 'has_pool', 'cleaning_fee',\n",
    "       'is_superhost', 'bed_bath_ratio', 'occupancy_ratio_all']\n",
    "data = data.merge(listing[cols], how = 'left', on = 'scraping_id')\n",
    "data = data.loc[(data['city'].isin(['scottsdale', 'tempe', 'phoenix'])) & (data['bedrooms'] <= 3)]\n",
    "data['city'] = pd.Categorical(data['city'])\n",
    "data['city_code'] = data['city'].cat.codes\n",
    "data['city_code'] = data['city_code'].astype('float32')\n",
    "def downcast_dtypes(df):\n",
    "\n",
    "    # Select columns to downcast\n",
    "    float_cols = [c for c in df if df[c].dtype == \"float32\"]\n",
    "    int_cols =   [c for c in df if df[c].dtype == \"int32\"]\n",
    "    \n",
    "    # Downcast\n",
    "    df[float_cols] = df[float_cols].astype(np.float32)\n",
    "    df[int_cols]   = df[int_cols].astype(np.int32)\n",
    "    \n",
    "    return df\n",
    "data = downcast_dtypes(data)\n",
    "cols = [x for x in data.columns if x not in ['date', 'calc_price_w_cleanFee','scraping_id', 'city', 'bed_bath_ratio', 'cleaning_fee']]\n",
    "\n",
    "X_train = data[cols].reset_index(drop = True)\n",
    "y_train = data['calc_price_w_cleanFee'].reset_index(drop = True)\n",
    "\n",
    "m = RandomForestRegressor(n_estimators=100, n_jobs=-1)\n",
    "m.fit(X_train, y_train)\n",
    "\n",
    "fi = rf_feat_importance(m, X_train)\n",
    "fi[:20].plot('cols', 'imp', 'barh', figsize=(12,7), legend=False)"
   ]
  },
  {
   "cell_type": "markdown",
   "metadata": {},
   "source": [
    "#### How many properties are on the listing file.  How many of them are active (have booking in either April or May)"
   ]
  },
  {
   "cell_type": "markdown",
   "metadata": {},
   "source": [
    "Approximately half of the listings did not have active booking."
   ]
  },
  {
   "cell_type": "code",
   "execution_count": 7,
   "metadata": {},
   "outputs": [
    {
     "data": {
      "text/plain": [
       "1    0.510716\n",
       "0    0.489284\n",
       "Name: exclude, dtype: float64"
      ]
     },
     "execution_count": 7,
     "metadata": {},
     "output_type": "execute_result"
    }
   ],
   "source": [
    "listing['exclude'].value_counts(normalize = True)"
   ]
  },
  {
   "cell_type": "markdown",
   "metadata": {},
   "source": [
    "#### Understanding properties in each city?"
   ]
  },
  {
   "cell_type": "code",
   "execution_count": 8,
   "metadata": {},
   "outputs": [],
   "source": [
    "city_property_count = df['city'].value_counts()\n",
    "city_mean_price = df.groupby('city')['mean_price'].mean().sort_values(ascending = False)\n",
    "city_property_percentage = df['city'].value_counts(normalize = True)"
   ]
  },
  {
   "cell_type": "code",
   "execution_count": 9,
   "metadata": {},
   "outputs": [],
   "source": [
    "city = pd.DataFrame()"
   ]
  },
  {
   "cell_type": "code",
   "execution_count": 10,
   "metadata": {},
   "outputs": [],
   "source": [
    "city['city_property_percentage'] = city_property_percentage\n",
    "city['city_property_count'] = city_property_count\n",
    "city['city_mean_price'] = city_mean_price"
   ]
  },
  {
   "cell_type": "code",
   "execution_count": 11,
   "metadata": {},
   "outputs": [
    {
     "data": {
      "text/html": [
       "<div>\n",
       "<style scoped>\n",
       "    .dataframe tbody tr th:only-of-type {\n",
       "        vertical-align: middle;\n",
       "    }\n",
       "\n",
       "    .dataframe tbody tr th {\n",
       "        vertical-align: top;\n",
       "    }\n",
       "\n",
       "    .dataframe thead th {\n",
       "        text-align: right;\n",
       "    }\n",
       "</style>\n",
       "<table border=\"1\" class=\"dataframe\">\n",
       "  <thead>\n",
       "    <tr style=\"text-align: right;\">\n",
       "      <th></th>\n",
       "      <th>city_property_percentage</th>\n",
       "      <th>city_property_count</th>\n",
       "      <th>city_mean_price</th>\n",
       "    </tr>\n",
       "  </thead>\n",
       "  <tbody>\n",
       "    <tr>\n",
       "      <th>scottsdale</th>\n",
       "      <td>0.508821</td>\n",
       "      <td>2019</td>\n",
       "      <td>237.571320</td>\n",
       "    </tr>\n",
       "    <tr>\n",
       "      <th>phoenix</th>\n",
       "      <td>0.396673</td>\n",
       "      <td>1574</td>\n",
       "      <td>155.773599</td>\n",
       "    </tr>\n",
       "    <tr>\n",
       "      <th>tempe</th>\n",
       "      <td>0.090474</td>\n",
       "      <td>359</td>\n",
       "      <td>154.953049</td>\n",
       "    </tr>\n",
       "    <tr>\n",
       "      <th>mesa</th>\n",
       "      <td>0.001008</td>\n",
       "      <td>4</td>\n",
       "      <td>116.250000</td>\n",
       "    </tr>\n",
       "    <tr>\n",
       "      <th>fountain hills</th>\n",
       "      <td>0.000504</td>\n",
       "      <td>2</td>\n",
       "      <td>283.000000</td>\n",
       "    </tr>\n",
       "    <tr>\n",
       "      <th>peoria</th>\n",
       "      <td>0.000504</td>\n",
       "      <td>2</td>\n",
       "      <td>152.500000</td>\n",
       "    </tr>\n",
       "    <tr>\n",
       "      <th>paradise valley</th>\n",
       "      <td>0.000504</td>\n",
       "      <td>2</td>\n",
       "      <td>747.500000</td>\n",
       "    </tr>\n",
       "    <tr>\n",
       "      <th>chandler</th>\n",
       "      <td>0.000252</td>\n",
       "      <td>1</td>\n",
       "      <td>279.000000</td>\n",
       "    </tr>\n",
       "    <tr>\n",
       "      <th>anthem</th>\n",
       "      <td>0.000252</td>\n",
       "      <td>1</td>\n",
       "      <td>250.000000</td>\n",
       "    </tr>\n",
       "    <tr>\n",
       "      <th>goodyear</th>\n",
       "      <td>0.000252</td>\n",
       "      <td>1</td>\n",
       "      <td>196.000000</td>\n",
       "    </tr>\n",
       "    <tr>\n",
       "      <th>glendale</th>\n",
       "      <td>0.000252</td>\n",
       "      <td>1</td>\n",
       "      <td>149.000000</td>\n",
       "    </tr>\n",
       "    <tr>\n",
       "      <th>gilbert</th>\n",
       "      <td>0.000252</td>\n",
       "      <td>1</td>\n",
       "      <td>84.000000</td>\n",
       "    </tr>\n",
       "    <tr>\n",
       "      <th>maricopa</th>\n",
       "      <td>0.000252</td>\n",
       "      <td>1</td>\n",
       "      <td>169.000000</td>\n",
       "    </tr>\n",
       "  </tbody>\n",
       "</table>\n",
       "</div>"
      ],
      "text/plain": [
       "                 city_property_percentage  city_property_count  \\\n",
       "scottsdale                       0.508821                 2019   \n",
       "phoenix                          0.396673                 1574   \n",
       "tempe                            0.090474                  359   \n",
       "mesa                             0.001008                    4   \n",
       "fountain hills                   0.000504                    2   \n",
       "peoria                           0.000504                    2   \n",
       "paradise valley                  0.000504                    2   \n",
       "chandler                         0.000252                    1   \n",
       "anthem                           0.000252                    1   \n",
       "goodyear                         0.000252                    1   \n",
       "glendale                         0.000252                    1   \n",
       "gilbert                          0.000252                    1   \n",
       "maricopa                         0.000252                    1   \n",
       "\n",
       "                 city_mean_price  \n",
       "scottsdale            237.571320  \n",
       "phoenix               155.773599  \n",
       "tempe                 154.953049  \n",
       "mesa                  116.250000  \n",
       "fountain hills        283.000000  \n",
       "peoria                152.500000  \n",
       "paradise valley       747.500000  \n",
       "chandler              279.000000  \n",
       "anthem                250.000000  \n",
       "goodyear              196.000000  \n",
       "glendale              149.000000  \n",
       "gilbert                84.000000  \n",
       "maricopa              169.000000  "
      ]
     },
     "execution_count": 11,
     "metadata": {},
     "output_type": "execute_result"
    }
   ],
   "source": [
    "city"
   ]
  },
  {
   "cell_type": "markdown",
   "metadata": {},
   "source": [
    "#### Where are WanderJaunt Properties located?"
   ]
  },
  {
   "cell_type": "code",
   "execution_count": 12,
   "metadata": {},
   "outputs": [
    {
     "data": {
      "text/plain": [
       "city\n",
       "phoenix       19\n",
       "scottsdale    23\n",
       "tempe          6\n",
       "dtype: int64"
      ]
     },
     "execution_count": 12,
     "metadata": {},
     "output_type": "execute_result"
    }
   ],
   "source": [
    "df[df['host_name']=='WanderJaunt'].groupby('city').size()"
   ]
  },
  {
   "cell_type": "code",
   "execution_count": 13,
   "metadata": {},
   "outputs": [
    {
     "data": {
      "text/plain": [
       "city\n",
       "paradise valley    747.500000\n",
       "fountain hills     283.000000\n",
       "chandler           279.000000\n",
       "anthem             250.000000\n",
       "scottsdale         237.571320\n",
       "goodyear           196.000000\n",
       "maricopa           169.000000\n",
       "phoenix            155.773599\n",
       "tempe              154.953049\n",
       "peoria             152.500000\n",
       "glendale           149.000000\n",
       "mesa               116.250000\n",
       "gilbert             84.000000\n",
       "Name: mean_price, dtype: float64"
      ]
     },
     "execution_count": 13,
     "metadata": {},
     "output_type": "execute_result"
    }
   ],
   "source": [
    "df.groupby('city')['mean_price'].mean().sort_values(ascending = False)"
   ]
  }
 ],
 "metadata": {
  "kernelspec": {
   "display_name": "Python 3",
   "language": "python",
   "name": "python3"
  },
  "language_info": {
   "codemirror_mode": {
    "name": "ipython",
    "version": 3
   },
   "file_extension": ".py",
   "mimetype": "text/x-python",
   "name": "python",
   "nbconvert_exporter": "python",
   "pygments_lexer": "ipython3",
   "version": "3.6.5"
  }
 },
 "nbformat": 4,
 "nbformat_minor": 2
}
